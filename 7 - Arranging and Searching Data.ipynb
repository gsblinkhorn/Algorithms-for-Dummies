{
 "cells": [
  {
   "cell_type": "markdown",
   "metadata": {},
   "source": [
    "# Arranging and Searching Data\n",
    "The four data operations are create, read, update and delete (CRUD), which focus on the need to access the data you need to perform just about every task in life quickly and easily. Placing data in an order that makes it easy to perform CRUD operations is important because the less code you need to make data access work, the better. \n",
    "\n",
    "Sorted data makes searches considerably faster, as long as the sort matches the search. Sorting and searching go together: you sort the data in a way that makes searching faster.\n",
    "\n",
    "There are many different ways available to search for data. Some of these techniques are slower than others; some have attributes that make them attractive to developers.\n",
    "\n",
    "The use of indexing (in hash maps/dictionaries) makes sorting and searching significantly faster but also comes with trade-offs that you need to consider (such as the use of additional resources).\n",
    "\n",
    "## Introduction to Sorting Algorithms\n",
    "\n",
    "### Defining Why Sorting Data is Important\n",
    "\n",
    "When the data is unsorted, you need to search one item at a time, and you don't even know whether you'll find what you need without searching every item in the dataset first. The need to maintain several sorted orders for the same data is the reason that developers created indexes. Sorting a small index is faster than sorting the entire dataset. By maintaining an index for each sort requirement, you can effectively cut data access time and allow several people to access the data at the same time in the order in which they need to access it.\n",
    "\n",
    "When considering how effective a particular sort algorithm is at arranging data, timing benchmarks typically looks at two factors:\n",
    "- **Comparisons: ** The number of times the target data is compared against existing data in the dataset\n",
    "- **Exchanges: ** The number of times data changes place in a dataset during the sort process\n",
    "\n",
    "### Ordering Data Naively\n",
    "\n",
    "This consists of ordering data by using brute-force methods, without any regard whatsoever to making any kind of guess as to where the data should appear in the list. These approaches tend to work with the entire dataset at once (as opposed to taking a divide and conquer approach, for example), and are also relatively easy to understand while using compute resources efficently. The trade-off is that their runtime can be slower than other 'smarter' algorithms.\n",
    "\n",
    "#### Selection Sort\n",
    "\n",
    "A selection sort works in one of two ways: it either looks for the smallest item in the list and places it in the front of the list (ensuring that the item is in its correct location) or looks for the largest item and places it in the back of the list. \n",
    "\n",
    "*Worst-Case Runtime: * O(n<sup>2</sup>)\n",
    "\n",
    "*Benefits:*\n",
    "- Easy to implement\n",
    "- Guarantees that items immediately appear in their final location once moved (minimal exchanges)"
   ]
  },
  {
   "cell_type": "code",
   "execution_count": 12,
   "metadata": {},
   "outputs": [
    {
     "name": "stdout",
     "output_type": "stream",
     "text": [
      "[1, 5, 7, 4, 2, 8, 9, 10, 6, 3]\n",
      "[1, 2, 7, 4, 5, 8, 9, 10, 6, 3]\n",
      "[1, 2, 3, 4, 5, 8, 9, 10, 6, 7]\n",
      "[1, 2, 3, 4, 5, 8, 9, 10, 6, 7]\n",
      "[1, 2, 3, 4, 5, 8, 9, 10, 6, 7]\n",
      "[1, 2, 3, 4, 5, 6, 9, 10, 8, 7]\n",
      "[1, 2, 3, 4, 5, 6, 7, 10, 8, 9]\n",
      "[1, 2, 3, 4, 5, 6, 7, 8, 10, 9]\n",
      "[1, 2, 3, 4, 5, 6, 7, 8, 9, 10]\n",
      "[1, 2, 3, 4, 5, 6, 7, 8, 9, 10]\n"
     ]
    }
   ],
   "source": [
    "data = [9, 5, 7, 4, 2, 8, 1, 10, 6, 3]\n",
    "\n",
    "def selectionSort(data):\n",
    "    for scanIndex in range(0, len(data)):\n",
    "        minIndex = scanIndex\n",
    "        \n",
    "        for compIndex in range(scanIndex + 1, len(data)):\n",
    "            if data[compIndex] < data[minIndex]:\n",
    "                minIndex = compIndex\n",
    "        \n",
    "        if minIndex != scanIndex:\n",
    "            data[minIndex], data[scanIndex] = data[scanIndex], data[minIndex]\n",
    "        \n",
    "        print(data)\n",
    "            \n",
    "    return data\n",
    "            \n",
    "data = selectionSort(data)"
   ]
  },
  {
   "cell_type": "markdown",
   "metadata": {},
   "source": [
    "#### Insertion Sort\n",
    "\n",
    "An insertion sort works by using a single item as a starting point and adding items to the left or right of it based on whether these items are less than or greater than the selected item.\n",
    "\n",
    "*Best-Case Runtime:* O(n) - When the entire dataset is already sorted, no values need to be moved \n",
    "\n",
    "*Worst-Case Runtime:* O(n<sup>2</sup>) - When the entire dataset is in reverse order, every insertion requires moving every value that already appears in the output\n",
    "\n",
    "*Benefits:*\n",
    "- Easy to implement\n",
    "- Can require fewer comparisons than a selection sort"
   ]
  },
  {
   "cell_type": "code",
   "execution_count": 8,
   "metadata": {},
   "outputs": [
    {
     "name": "stdout",
     "output_type": "stream",
     "text": [
      "[5, 9, 7, 4, 2, 8, 1, 10, 6, 3]\n",
      "[5, 7, 9, 4, 2, 8, 1, 10, 6, 3]\n",
      "[4, 5, 7, 9, 2, 8, 1, 10, 6, 3]\n",
      "[2, 4, 5, 7, 9, 8, 1, 10, 6, 3]\n",
      "[2, 4, 5, 7, 8, 9, 1, 10, 6, 3]\n",
      "[1, 2, 4, 5, 7, 8, 9, 10, 6, 3]\n",
      "[1, 2, 4, 5, 7, 8, 9, 10, 6, 3]\n",
      "[1, 2, 4, 5, 6, 7, 8, 9, 10, 3]\n",
      "[1, 2, 3, 4, 5, 6, 7, 8, 9, 10]\n"
     ]
    }
   ],
   "source": [
    "data = [9, 5, 7, 4, 2, 8, 1, 10, 6, 3]\n",
    "\n",
    "def insertionSort(data):\n",
    "    for scanIx in range(1, len(data)):\n",
    "        temp = data[scanIx]\n",
    "        \n",
    "        while scanIx > 0 and temp < data[scanIx - 1]:\n",
    "            data[scanIx] = data[scanIx - 1]\n",
    "            scanIx -= 1\n",
    "            \n",
    "        data[scanIx] = temp\n",
    "        print(data)\n",
    "    \n",
    "    return data\n",
    "\n",
    "data = insertionSort(data)"
   ]
  },
  {
   "cell_type": "markdown",
   "metadata": {},
   "source": [
    "### Employing Better Sort Techniques\n",
    "\n",
    "As technology improves, the sort algorithms begin taking a more intelligent approach to getting data into the right order. Rather than work with an entire dataset, smart sorting algorithms work with individual items, reducing the work required to perform the task.\n",
    "\n",
    "#### Merge Sort\n",
    "\n",
    "A merge sort works by applying the divide and conquer and approach. The sort begins by breaking the dataset into individual pieces and sorting the pieces. It then merges the pieces in a manner that ensures that it has sorted the merged piece. This process continues until the entire dataset is again a single, sorted piece.\n",
    "\n",
    "*Worst-Case Runtime:* O(n log n) - This runtime is considerably faster than the previous examples, as log n is always < n\n",
    "\n",
    "**Python Tip: ** When slicing a list, the slice is inclusive of the begin index and exclusive of the end index\n",
    "- The slice data[2:] will return a list from index position 2 and onwards\n",
    "- The slice data[:2] will return a list up to but excluding index position 2 and onwards"
   ]
  },
  {
   "cell_type": "code",
   "execution_count": 20,
   "metadata": {},
   "outputs": [
    {
     "name": "stdout",
     "output_type": "stream",
     "text": [
      "Mid:  2\n",
      "data[2:] -  [7, 4, 9]\n",
      "data[:2] -  [5, 3]\n"
     ]
    }
   ],
   "source": [
    "# Python Tip Demo\n",
    "data = [5, 3, 7, 4, 9]\n",
    "\n",
    "mid = len(data) // 2 # floor division to return int\n",
    "print(\"Mid: \", mid)\n",
    "print(\"data[{}:] - \".format(mid), data[mid:])\n",
    "print(\"data[:{}] - \".format(mid), data[:mid])"
   ]
  },
  {
   "cell_type": "code",
   "execution_count": 21,
   "metadata": {},
   "outputs": [
    {
     "name": "stdout",
     "output_type": "stream",
     "text": [
      "Left Side:  [5]\n",
      "Right Side:  [3]\n",
      "Merged:  [3, 5]\n",
      "Left Side:  [4]\n",
      "Right Side:  [9]\n",
      "Merged:  [4, 9]\n",
      "Left Side:  [7]\n",
      "Right Side:  [4, 9]\n",
      "Merged:  [4, 7, 9]\n",
      "Left Side:  [3, 5]\n",
      "Right Side:  [4, 7, 9]\n",
      "Merged:  [3, 4, 5, 7, 9]\n"
     ]
    },
    {
     "data": {
      "text/plain": [
       "[3, 4, 5, 7, 9]"
      ]
     },
     "execution_count": 21,
     "metadata": {},
     "output_type": "execute_result"
    }
   ],
   "source": [
    "# Mergesort Demo\n",
    "data = [5, 3, 7, 4, 9]\n",
    "\n",
    "def mergesort(data):\n",
    "    # Check Base Case: data is one (or zero) elements\n",
    "    if len(data) < 2:\n",
    "        return data\n",
    "    \n",
    "    # Calculate midpoint using floor division\n",
    "    mid = len(data) // 2\n",
    "    \n",
    "    # Split dataset\n",
    "    left = mergesort(data[:mid])\n",
    "    right = mergesort(data[mid:])\n",
    "    \n",
    "    # Merge the sorted pieces\n",
    "    print(\"Left Side: \", left)\n",
    "    print(\"Right Side: \", right)\n",
    "    merged = merge(left, right)\n",
    "    print(\"Merged: \", merged)\n",
    "    return merged\n",
    "\n",
    "def merge(left, right):\n",
    "    result = []\n",
    "    leftIx = 0\n",
    "    rightIx = 0\n",
    "    totalLen = len(left) + len(right)\n",
    "    \n",
    "    while len(result) < totalLen:\n",
    "        if left[leftIx] < right[rightIx]:\n",
    "            result.append(left[leftIx])\n",
    "            leftIx += 1\n",
    "        else:\n",
    "            result.append(right[rightIx])\n",
    "            rightIx += 1\n",
    "    \n",
    "        if leftIx == len(left) or rightIx == len(right):\n",
    "            result.extend(left[leftIx:] or right[rightIx:])\n",
    "            break\n",
    "            \n",
    "    return result\n",
    "\n",
    "mergesort(data)"
   ]
  },
  {
   "cell_type": "markdown",
   "metadata": {},
   "source": [
    "#### Quick Sort\n",
    "\n",
    "Quick sort also works by applying a divide and conquer approach. It picks a pivot point in the dataset, sorts lower data below the pivot and higher data above it, then quick sorts the partitions on either side of the pivot point. When a pivot point is processed, its locked in place in the array. \n",
    "\n",
    "*Average-Case Runtime:* O(n log n)\n",
    "\n",
    "*Worst-Case Runtime:* O(n<sup>2</sup>) - several events can cause the worst case runtime, although it is rare: the dataset is already sorted, the dataset is sorted in reverse order, or all elements are all the same. "
   ]
  },
  {
   "cell_type": "code",
   "execution_count": 5,
   "metadata": {},
   "outputs": [
    {
     "name": "stdout",
     "output_type": "stream",
     "text": [
      "[9, 5, 7, 4, 2, 8, 1, 3, 6, 10]\n",
      "[6, 5, 7, 4, 2, 8, 1, 3, 9, 10]\n",
      "[6, 5, 3, 4, 2, 8, 1, 7, 9, 10]\n",
      "[6, 5, 3, 4, 2, 1, 8, 7, 9, 10]\n",
      "[1, 5, 3, 4, 2, 6, 8, 7, 9, 10]\n",
      "[1, 5, 3, 4, 2, 6, 8, 7, 9, 10]\n",
      "[1, 2, 3, 4, 5, 6, 8, 7, 9, 10]\n",
      "[1, 2, 3, 4, 5, 6, 8, 7, 9, 10]\n",
      "[1, 2, 3, 4, 5, 6, 8, 7, 9, 10]\n",
      "[1, 2, 3, 4, 5, 6, 8, 7, 9, 10]\n",
      "[1, 2, 3, 4, 5, 6, 7, 8, 9, 10]\n",
      "[1, 2, 3, 4, 5, 6, 7, 8, 9, 10]\n"
     ]
    },
    {
     "data": {
      "text/plain": [
       "[1, 2, 3, 4, 5, 6, 7, 8, 9, 10]"
      ]
     },
     "execution_count": 5,
     "metadata": {},
     "output_type": "execute_result"
    }
   ],
   "source": [
    "data = [9, 5, 7, 4, 2, 8, 1, 10, 6, 3]\n",
    "\n",
    "def partition(data, left, right):\n",
    "    pivot = data[left]\n",
    "    lIx = left + 1\n",
    "    rIx = right\n",
    "    \n",
    "    while True:\n",
    "        while lIx <= rIx and data[lIx] <= pivot:\n",
    "            lIx += 1\n",
    "        while rIx >= lIx and data[rIx] >= pivot:\n",
    "            rIx -= 1\n",
    "        if rIx <= lIx:\n",
    "            break\n",
    "        data[lIx], data[rIx] = data[rIx], data[lIx]\n",
    "        print(data)\n",
    "        \n",
    "    data[left], data[rIx] = data[rIx], data[left]\n",
    "    print(data)\n",
    "    return rIx\n",
    "\n",
    "def quicksort(data, left, right):\n",
    "    if right <= left:\n",
    "        return\n",
    "    else:\n",
    "        pivot = partition(data, left, right)\n",
    "        quicksort(data, left, pivot)\n",
    "        quicksort(data, pivot + 1, right)\n",
    "        \n",
    "    return data\n",
    "\n",
    "quicksort(data, 0, len(data) - 1)"
   ]
  }
 ],
 "metadata": {
  "kernelspec": {
   "display_name": "Python 3",
   "language": "python",
   "name": "python3"
  },
  "language_info": {
   "codemirror_mode": {
    "name": "ipython",
    "version": 3
   },
   "file_extension": ".py",
   "mimetype": "text/x-python",
   "name": "python",
   "nbconvert_exporter": "python",
   "pygments_lexer": "ipython3",
   "version": "3.6.7"
  }
 },
 "nbformat": 4,
 "nbformat_minor": 2
}
