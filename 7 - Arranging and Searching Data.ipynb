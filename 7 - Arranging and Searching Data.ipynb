{
 "cells": [
  {
   "cell_type": "markdown",
   "metadata": {},
   "source": [
    "# Arranging and Searching Data\n",
    "The four data operations are create, read, update and delete (CRUD), which focus on the need to access the data you need to perform just about every task in life quickly and easily. Placing data in an order that makes it easy to perform CRUD operations is important because the less code you need to make data access work, the better. \n",
    "\n",
    "Sorted data makes searches considerably faster, as long as the sort matches the search. Sorting and searching go together: you sort the data in a way that makes searching faster.\n",
    "\n",
    "There are many different ways available to search for data. Some of these techniques are slower than others; some have attributes that make them attractive to developers.\n",
    "\n",
    "The use of indexing (in hash maps/dictionaries) makes sorting and searching significantly faster but also comes with trade-offs that you need to consider (such as the use of additional resources).\n",
    "\n",
    "## Introduction to Sorting Algorithms\n",
    "\n",
    "### Defining Why Sorting Data is Important\n",
    "\n",
    "When the data is unsorted, you need to search one item at a time, and you don't even know whether you'll find what you need without searching every item in the dataset first. The need to maintain several sorted orders for the same data is the reason that developers created indexes. Sorting a small index is faster than sorting the entire dataset. By maintaining an index for each sort requirement, you can effectively cut data access time and allow several people to access the data at the same time in the order in which they need to access it.\n",
    "\n",
    "When considering how effective a particular sort algorithm is at arranging data, timing benchmarks typically looks at two factors:\n",
    "- **Comparisons: ** The number of times the target data is compared against existing data in the dataset\n",
    "- **Exchanges: ** The number of times data changes place in a dataset during the sort process\n",
    "\n",
    "### Ordering Data Naively\n",
    "\n",
    "This consists of ordering data by using brute-force methods, without any regard whatsoever to making any kind of guess as to where the data should appear in the list. These approaches tend to work with the entire dataset at once (as opposed to taking a divide and conquer approach, for example), and are also relatively easy to understand while using compute resources efficently. The trade-off is that their runtime can be slower than other 'smarter' algorithms.\n",
    "\n",
    "#### Selection Sort\n",
    "\n",
    "https://en.wikipedia.org/wiki/Selection_sort\n",
    "\n",
    "A selection sort works in one of two ways: it either looks for the smallest item in the list and places it in the front of the list (ensuring that the item is in its correct location) or looks for the largest item and places it in the back of the list. \n",
    "\n",
    "*Worst-Case Runtime: * O(n<sup>2</sup>)\n",
    "\n",
    "*Benefits:*\n",
    "- Easy to implement\n",
    "- Guarantees that items immediately appear in their final location once moved (minimal exchanges)"
   ]
  },
  {
   "cell_type": "code",
   "execution_count": 12,
   "metadata": {},
   "outputs": [
    {
     "name": "stdout",
     "output_type": "stream",
     "text": [
      "[1, 5, 7, 4, 2, 8, 9, 10, 6, 3]\n",
      "[1, 2, 7, 4, 5, 8, 9, 10, 6, 3]\n",
      "[1, 2, 3, 4, 5, 8, 9, 10, 6, 7]\n",
      "[1, 2, 3, 4, 5, 8, 9, 10, 6, 7]\n",
      "[1, 2, 3, 4, 5, 8, 9, 10, 6, 7]\n",
      "[1, 2, 3, 4, 5, 6, 9, 10, 8, 7]\n",
      "[1, 2, 3, 4, 5, 6, 7, 10, 8, 9]\n",
      "[1, 2, 3, 4, 5, 6, 7, 8, 10, 9]\n",
      "[1, 2, 3, 4, 5, 6, 7, 8, 9, 10]\n",
      "[1, 2, 3, 4, 5, 6, 7, 8, 9, 10]\n"
     ]
    }
   ],
   "source": [
    "data = [9, 5, 7, 4, 2, 8, 1, 10, 6, 3]\n",
    "\n",
    "def selectionSort(data):\n",
    "    for scanIndex in range(0, len(data)):\n",
    "        minIndex = scanIndex\n",
    "        \n",
    "        for compIndex in range(scanIndex + 1, len(data)):\n",
    "            if data[compIndex] < data[minIndex]:\n",
    "                minIndex = compIndex\n",
    "        \n",
    "        if minIndex != scanIndex:\n",
    "            data[minIndex], data[scanIndex] = data[scanIndex], data[minIndex]\n",
    "        \n",
    "        print(data)\n",
    "            \n",
    "    return data\n",
    "            \n",
    "data = selectionSort(data)"
   ]
  },
  {
   "cell_type": "markdown",
   "metadata": {},
   "source": [
    "#### Insertion Sort\n",
    "\n",
    "https://en.wikipedia.org/wiki/Insertion_sort\n",
    "\n",
    "An insertion sort works by using a single item as a starting point and adding items to the left or right of it based on whether these items are less than or greater than the selected item.\n",
    "\n",
    "*Best-Case Runtime:* O(n) - When the entire dataset is already sorted, no values need to be moved \n",
    "\n",
    "*Worst-Case Runtime:* O(n<sup>2</sup>) - When the entire dataset is in reverse order, every insertion requires moving every value that already appears in the output\n",
    "\n",
    "*Benefits:*\n",
    "- Easy to implement\n",
    "- Can require fewer comparisons than a selection sort"
   ]
  },
  {
   "cell_type": "code",
   "execution_count": 8,
   "metadata": {},
   "outputs": [
    {
     "name": "stdout",
     "output_type": "stream",
     "text": [
      "[5, 9, 7, 4, 2, 8, 1, 10, 6, 3]\n",
      "[5, 7, 9, 4, 2, 8, 1, 10, 6, 3]\n",
      "[4, 5, 7, 9, 2, 8, 1, 10, 6, 3]\n",
      "[2, 4, 5, 7, 9, 8, 1, 10, 6, 3]\n",
      "[2, 4, 5, 7, 8, 9, 1, 10, 6, 3]\n",
      "[1, 2, 4, 5, 7, 8, 9, 10, 6, 3]\n",
      "[1, 2, 4, 5, 7, 8, 9, 10, 6, 3]\n",
      "[1, 2, 4, 5, 6, 7, 8, 9, 10, 3]\n",
      "[1, 2, 3, 4, 5, 6, 7, 8, 9, 10]\n"
     ]
    }
   ],
   "source": [
    "data = [9, 5, 7, 4, 2, 8, 1, 10, 6, 3]\n",
    "\n",
    "def insertionSort(data):\n",
    "    for scanIx in range(1, len(data)):\n",
    "        temp = data[scanIx]\n",
    "        \n",
    "        while scanIx > 0 and temp < data[scanIx - 1]:\n",
    "            data[scanIx] = data[scanIx - 1]\n",
    "            scanIx -= 1\n",
    "            \n",
    "        data[scanIx] = temp\n",
    "        print(data)\n",
    "    \n",
    "    return data\n",
    "\n",
    "data = insertionSort(data)"
   ]
  },
  {
   "cell_type": "markdown",
   "metadata": {},
   "source": [
    "### Employing Better Sort Techniques\n",
    "\n",
    "As technology improves, the sort algorithms begin taking a more intelligent approach to getting data into the right order. Rather than work with an entire dataset, smart sorting algorithms work with individual items, reducing the work required to perform the task.\n",
    "\n",
    "#### Merge Sort\n",
    "\n",
    "https://en.wikipedia.org/wiki/Merge_sort\n",
    "\n",
    "A merge sort works by applying the divide and conquer and approach. The sort begins by breaking the dataset into individual pieces and sorting the pieces. It then merges the pieces in a manner that ensures that it has sorted the merged piece. This process continues until the entire dataset is again a single, sorted piece.\n",
    "\n",
    "*Worst-Case Runtime:* O(n log n) - This runtime is considerably faster than the previous examples, as log n is always < n\n",
    "\n",
    "**Python Tip: ** When slicing a list, the slice is inclusive of the begin index and exclusive of the end index\n",
    "- The slice data[2:] will return a list from index position 2 and onwards\n",
    "- The slice data[:2] will return a list up to but excluding index position 2 and onwards"
   ]
  },
  {
   "cell_type": "code",
   "execution_count": 20,
   "metadata": {},
   "outputs": [
    {
     "name": "stdout",
     "output_type": "stream",
     "text": [
      "Mid:  2\n",
      "data[2:] -  [7, 4, 9]\n",
      "data[:2] -  [5, 3]\n"
     ]
    }
   ],
   "source": [
    "# Python Tip Demo\n",
    "data = [5, 3, 7, 4, 9]\n",
    "\n",
    "mid = len(data) // 2 # floor division to return int\n",
    "print(\"Mid: \", mid)\n",
    "print(\"data[{}:] - \".format(mid), data[mid:])\n",
    "print(\"data[:{}] - \".format(mid), data[:mid])"
   ]
  },
  {
   "cell_type": "code",
   "execution_count": 21,
   "metadata": {},
   "outputs": [
    {
     "name": "stdout",
     "output_type": "stream",
     "text": [
      "Left Side:  [5]\n",
      "Right Side:  [3]\n",
      "Merged:  [3, 5]\n",
      "Left Side:  [4]\n",
      "Right Side:  [9]\n",
      "Merged:  [4, 9]\n",
      "Left Side:  [7]\n",
      "Right Side:  [4, 9]\n",
      "Merged:  [4, 7, 9]\n",
      "Left Side:  [3, 5]\n",
      "Right Side:  [4, 7, 9]\n",
      "Merged:  [3, 4, 5, 7, 9]\n"
     ]
    },
    {
     "data": {
      "text/plain": [
       "[3, 4, 5, 7, 9]"
      ]
     },
     "execution_count": 21,
     "metadata": {},
     "output_type": "execute_result"
    }
   ],
   "source": [
    "# Mergesort Demo\n",
    "data = [5, 3, 7, 4, 9]\n",
    "\n",
    "def mergesort(data):\n",
    "    # Check Base Case: data is one (or zero) elements\n",
    "    if len(data) < 2:\n",
    "        return data\n",
    "    \n",
    "    # Calculate midpoint using floor division\n",
    "    mid = len(data) // 2\n",
    "    \n",
    "    # Split dataset\n",
    "    left = mergesort(data[:mid])\n",
    "    right = mergesort(data[mid:])\n",
    "    \n",
    "    # Merge the sorted pieces\n",
    "    print(\"Left Side: \", left)\n",
    "    print(\"Right Side: \", right)\n",
    "    merged = merge(left, right)\n",
    "    print(\"Merged: \", merged)\n",
    "    return merged\n",
    "\n",
    "def merge(left, right):\n",
    "    result = []\n",
    "    leftIx = 0\n",
    "    rightIx = 0\n",
    "    totalLen = len(left) + len(right)\n",
    "    \n",
    "    while len(result) < totalLen:\n",
    "        if left[leftIx] < right[rightIx]:\n",
    "            result.append(left[leftIx])\n",
    "            leftIx += 1\n",
    "        else:\n",
    "            result.append(right[rightIx])\n",
    "            rightIx += 1\n",
    "    \n",
    "        if leftIx == len(left) or rightIx == len(right):\n",
    "            result.extend(left[leftIx:] or right[rightIx:])\n",
    "            break\n",
    "            \n",
    "    return result\n",
    "\n",
    "mergesort(data)"
   ]
  },
  {
   "cell_type": "markdown",
   "metadata": {},
   "source": [
    "#### Quick Sort\n",
    "\n",
    "https://en.wikipedia.org/wiki/Quicksort\n",
    "\n",
    "Quick sort also works by applying a divide and conquer approach. It picks a pivot point in the dataset, sorts lower data below the pivot and higher data above it, then quick sorts the partitions on either side of the pivot point. When a pivot point is processed, its locked in place in the array. \n",
    "\n",
    "*Average-Case Runtime:* O(n log n)\n",
    "\n",
    "*Worst-Case Runtime:* O(n<sup>2</sup>) - several events can cause the worst case runtime, although it is rare: the dataset is already sorted, the dataset is sorted in reverse order, or all elements are all the same. "
   ]
  },
  {
   "cell_type": "code",
   "execution_count": 21,
   "metadata": {},
   "outputs": [
    {
     "name": "stdout",
     "output_type": "stream",
     "text": [
      "Before sort:  [9, 5, 7, 4, 2, 8, 1, 10, 6, 3]\n",
      "\n",
      "Swapping high (9) and low (1)\n",
      "[1, 5, 7, 4, 2, 8, 9, 10, 6, 3]\n",
      "\n",
      "Swapping high (5) and low (2)\n",
      "[1, 2, 7, 4, 5, 8, 9, 10, 6, 3]\n",
      "\n",
      "Swapping high (8) and low (3)\n",
      "[1, 2, 7, 4, 5, 3, 9, 10, 6, 8]\n",
      "\n",
      "Swapping high (9) and low (8)\n",
      "[1, 2, 7, 4, 5, 3, 8, 10, 6, 9]\n",
      "\n",
      "Swapping high (8) and low (6)\n",
      "[1, 2, 7, 4, 5, 3, 6, 10, 8, 9]\n",
      "\n",
      "Swapping high (10) and low (8)\n",
      "[1, 2, 7, 4, 5, 3, 6, 8, 10, 9]\n",
      "\n",
      "Swapping high (7) and low (3)\n",
      "[1, 2, 3, 4, 5, 7, 6, 8, 10, 9]\n",
      "\n",
      "Swapping high (7) and low (6)\n",
      "[1, 2, 3, 4, 5, 6, 7, 8, 10, 9]\n",
      "\n",
      "Swapping high (10) and low (9)\n",
      "[1, 2, 3, 4, 5, 6, 7, 8, 9, 10]\n"
     ]
    }
   ],
   "source": [
    "data = [9, 5, 7, 4, 2, 8, 1, 10, 6, 3]\n",
    "\n",
    "\n",
    "def quicksort(data, low, high):\n",
    "    if low < high:\n",
    "        part = partition(data, low, high)\n",
    "        quicksort(data, low, part)\n",
    "        quicksort(data, part + 1, high)\n",
    "\n",
    "# Implementation of the Hoare partition scheme\n",
    "def partition(data, low, high):\n",
    "    pivot = data[(low + high) // 2]\n",
    "    i = low\n",
    "    j = high\n",
    "    \n",
    "    while True:\n",
    "        while data[i] < pivot:\n",
    "            i += 1\n",
    "        while data[j] > pivot:\n",
    "            j -= 1\n",
    "        \n",
    "        if i >= j:\n",
    "            return j\n",
    "    \n",
    "        print(\"\\nSwapping high ({}) and low ({})\".format(data[i], data[j]))\n",
    "        data[i], data[j] = data[j], data[i]\n",
    "        print(data)\n",
    "\n",
    "print(\"Before sort: \", data)\n",
    "quicksort(data, 0, len(data) - 1)"
   ]
  },
  {
   "cell_type": "markdown",
   "metadata": {},
   "source": [
    "## Using Search Trees and the Heap\n",
    "\n",
    "Search trees enable you to look for data quickly. Obtaining data items, placing them in sortred order in a tree, and then searching that tree is one of the faster ways to find information. \n",
    "\n",
    "A special kind of tree structure is the *binary heap*, which places each of the node elements in a special order: upper-level branches are always smaller value than lower-level branches and leaves. The effect is to keep the tree balanced and in a predictable order so that searching becomes extremely efficient. The cost is in keeping the tree balanced.\n",
    "\n",
    "### Considering the Need to Search Effectively\n",
    "\n",
    "Of all the tasks that applications do, searching is the more time consuming and also the one required most. The benefit to creating and maintaining a dataset comes from using it to perform useful work, which means searching it for important information. Consequently, searches must proceed as efficiently as possible. The only problem is that no one search performs every task with absolute efficiency, so you must weigh your options based on what you expect to do as part of the search routines.\n",
    "\n",
    "Two of the more efficient methods of searching involve the use of the binary search tree and binary heap.\n",
    "\n",
    "#### Binary Search Tree\n",
    "\n",
    "https://en.wikipedia.org/wiki/Binary_search_tree\n",
    "\n",
    "In a binary search tree, the keys follow an order in which lesser numbers appear to the left of a node, and greater numbers appear to the right. The root node contains a value that is somewhere in the middle of the range of keys, giving the BST an easily understood structure. \n",
    "\n",
    "**Advantages over Binary Heap for Searching:**\n",
    "- Searching for an element requires O(log n) time, which is less than O(n) for a binary heap\n",
    "- Printing the elements in order requires only O(log n) time, which is less than O(n log n) for a binary heap\n",
    "- Finding the floor and ceiling requires O(log n) time\n",
    "- Locating K<sup>th</sup> smallest/largest element requires O(log n) when the tree is properly configured"
   ]
  },
  {
   "cell_type": "code",
   "execution_count": 25,
   "metadata": {},
   "outputs": [
    {
     "name": "stdout",
     "output_type": "stream",
     "text": [
      "\t\t\t 1\n",
      "\t\t\t 3\n",
      "\t\t 2\n",
      "\t 4\n",
      "\t\t\t 6\n",
      "\t\t\t 8\n",
      "\t\t 7\n",
      "\t\t 10\n",
      "\t 9\n",
      " 5\n"
     ]
    }
   ],
   "source": [
    "class Node:\n",
    "    def __init__(self, data, left=None, right=None):\n",
    "        self.data = data\n",
    "        self.left = left\n",
    "        self.right = right\n",
    "        \n",
    "    def __str__(self):\n",
    "        return str(self.data)\n",
    "\n",
    "class BinarySearchTree:\n",
    "    def __init__(self, rootNode=None):\n",
    "        self.rootNode = rootNode\n",
    "        \n",
    "    def __str__(self):\n",
    "        return \"Root Node: {}\".format(self.rootNode.data)\n",
    "        \n",
    "    def push(self, node):\n",
    "        pointer = self.rootNode\n",
    "        nodeAdded = False\n",
    "        \n",
    "        # Iterate through tree unitl suitable location is found\n",
    "        while(not nodeAdded):\n",
    "            if pointer == None:\n",
    "                self.rootNode = node\n",
    "                nodeAdded = True\n",
    "            elif node.data > pointer.data:\n",
    "                if pointer.right == None:\n",
    "                    pointer.right = node\n",
    "                    nodeAdded = True\n",
    "                else:\n",
    "                    pointer = pointer.right\n",
    "            else:\n",
    "                if pointer.left == None:\n",
    "                    pointer.left = node\n",
    "                    nodeAdded = True\n",
    "                else:\n",
    "                    pointer = pointer.left\n",
    "        \n",
    "        return nodeAdded\n",
    "    \n",
    "    def traverse(self, pointer=None, level=0):\n",
    "        if pointer == None:\n",
    "            pointer = self.rootNode\n",
    "        \n",
    "        if pointer.left != None:\n",
    "            self.traverse(pointer.left, level + 1)\n",
    "        if pointer.right != None:\n",
    "            self.traverse(pointer.right, level + 1)\n",
    "        \n",
    "        print(\"\\t\" * level, pointer.data)\n",
    "        \n",
    "\n",
    "data = [5, 9, 7, 4, 2, 8, 1, 10, 6, 3]\n",
    "\n",
    "myTree = BinarySearchTree()\n",
    "\n",
    "for val in data:\n",
    "    myTree.push(Node(val))\n",
    "\n",
    "myTree.traverse()"
   ]
  },
  {
   "cell_type": "markdown",
   "metadata": {},
   "source": [
    "#### Binary Heap\n",
    "\n",
    "https://en.wikipedia.org/wiki/Binary_heap\n",
    "\n",
    "There are two main kinds of binary heaps: a *binary max heap*, where each level of the heap contains values that are less than the previous level and the root contains the maximum key value for the tree, and a *binary min heap*, where each level of the heap contains values that are greater than the previous level and the root contains the maximum key value for the tree.\n",
    "\n",
    "**Advantages Over BST for Searching:**\n",
    "- Creating the required structures requires fewer resources because binary heaps can rely on arrays, making them cache friendlier as well.\n",
    "- Building a binary heap requires O(n) time, where building a BST requires O(n log n) time\n",
    "- Using pointers to implement the tree isn't necessary\n",
    "- Relying on binary heap variations (i.e. the Fibonacci Heap) offers advantages such as increase and decrease key times of O(1) time\n",
    "\n",
    "**Binary Heap Implementation:**\n",
    "\n",
    "https://interactivepython.org/courselib/static/pythonds/Trees/BinaryHeapImplementation.html\n",
    "\n",
    "An interesting property of a complete tree is that we can represent it using a single list. We do not need to use nodes and references or even lists of lists. Because the tree is complete, the left child of a parent (at position p) is the node that is found in position 2p in the list. Similarly, the right child of the parent is at position 2p+1 in the list. To find the parent of any node in the tree, we can simply use Python’s integer division. Given that a node is at position n in the list, the parent is at position n/2. "
   ]
  },
  {
   "cell_type": "code",
   "execution_count": null,
   "metadata": {},
   "outputs": [],
   "source": [
    "class BinHeap:\n",
    "    def __init__(self):\n",
    "        self.heapList = [0]\n",
    "        self.currentSize = 0"
   ]
  }
 ],
 "metadata": {
  "kernelspec": {
   "display_name": "Python 3",
   "language": "python",
   "name": "python3"
  },
  "language_info": {
   "codemirror_mode": {
    "name": "ipython",
    "version": 3
   },
   "file_extension": ".py",
   "mimetype": "text/x-python",
   "name": "python",
   "nbconvert_exporter": "python",
   "pygments_lexer": "ipython3",
   "version": "3.6.7"
  }
 },
 "nbformat": 4,
 "nbformat_minor": 2
}
