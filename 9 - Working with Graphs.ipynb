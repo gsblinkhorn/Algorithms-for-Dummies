{
 "cells": [
  {
   "cell_type": "markdown",
   "metadata": {},
   "source": [
    "# Working with Graphs\n",
    "\n",
    "Remember, a *graph* is simply a set of vertexes, nodes or points which are connected by edges, arcs or lines. A fundamental requirment for using a graph to solve problems is the capability to search for connections between points on the map. To make sense of a graph, you need to sort the nodes to create a specific organization. By sorting the data, you can view it in the same manner each time the algorithm traverses the nodes. \n",
    "\n",
    "A computer doesn't know that it needs to look in a specific place until you tell it to do so. You can focus the computer's attention on a specific location by reducing the graph size. With a simplified problem, the algorithm can more easily find the shortest route between two nodes, but performing this search can be more convoluted then it might appear.\n",
    "\n",
    "This chapter explores these concepts in greater detail. \n",
    "\n",
    "## Traversing a Graph Efficiently\n",
    "\n",
    "*Traversing a graph* simply means to search (or visit) each vertex (or node) in a specific order. The process of visiting a vertex can include both reading and updating it. As you traverse a graph, an unvisited vertex is *undiscovered*. After a visit, the vertex becomes *discovered*, because you visited it, or *processed*, because the algorithm tried all of the edges departing from it. \n",
    "\n",
    "The order of the search determines the kind of search performed, and many algorithms are available to perform this task. Two such algorithms are Breadth-First Search (BFS) and Depth-First Search (DFS), which will be explored below. \n",
    "\n",
    "Developers often emply BFS to locate the shortest route between two end points as quickly as possible. This means that you commonly find BFS used in applications such as GPS, where finding the shortest route is paramount. A DFS focuses on finding an entire path before exploring any other path. You use it when you need to search in detail, such as when attempting to solve to a maze. BFS needs a lot of memory because it systematically stores all the paths before finding a solution - DFS needs less memory, but you have no guarantee that it'll find the shortest and most direct solution.\n",
    "\n",
    "### Considering Redundancy\n",
    "\n",
    "When working with a graph, the nodes are likely to interconnect such that you might have to traverse some nodes more than once to traverse the entire graph. Because of this, dense graphs can greatly increase both computational and storage requirements. To reduce the negative effects of visiting a node more than once, it's common to mark each visited node in some manner to show that the algorithm has visited it - when the algortihm detects a marked node, it can simply skip that node and move on. Marking visited nodes decreases the performance penalties inherent in redundancy and also enables verification that the search is complete. \n",
    "\n",
    "### Creating the Graph\n",
    "\n",
    "To properly explore the BFS and DFS algorithms, we'll use a common graph for both."
   ]
  },
  {
   "cell_type": "code",
   "execution_count": 112,
   "metadata": {},
   "outputs": [
    {
     "data": {
      "image/png": "[encoded data removed]",
      "text/plain": [
       "<Figure size 432x288 with 1 Axes>"
      ]
     },
     "metadata": {},
     "output_type": "display_data"
    }
   ],
   "source": [
    "import numpy as np\n",
    "import networkx as nx\n",
    "import matplotlib.pyplot as plt\n",
    "import warnings\n",
    "%matplotlib inline\n",
    "warnings.simplefilter('ignore')\n",
    "\n",
    "graph = {'A': ['B', 'C'],\n",
    "         'B': ['A', 'C', 'D'],\n",
    "         'C': ['A', 'B', 'D', 'E'],\n",
    "         'D': ['B', 'C', 'E', 'F'],\n",
    "         'E': ['C', 'D', 'F'],\n",
    "         'F': ['D', 'E']}\n",
    "\n",
    "myGraph = nx.Graph()\n",
    "\n",
    "for node in graph:\n",
    "    myGraph.add_nodes_from(node)\n",
    "    for edge in graph[node]:\n",
    "        myGraph.add_edge(node, edge)\n",
    "        \n",
    "pos = {'A': [0.00, 0.50],\n",
    "       'B': [0.25, 0.75],\n",
    "       'C': [0.25, 0.25],\n",
    "       'D': [0.75, 0.75],\n",
    "       'E': [0.75, 0.25],\n",
    "       'F': [1.00, 0.50]}\n",
    "\n",
    "nx.draw_networkx(myGraph, pos)"
   ]
  },
  {
   "cell_type": "markdown",
   "metadata": {},
   "source": [
    "### Applying Breadth-First Search\n",
    "\n",
    "A BFS begins at the graph root and explores every node that attaches to the root. It then searches the next level - exploring each level in turn until it reaches the end. BFS explores the graph in a systematic way, exploring vertexes all around the starting vertex in a circular fashion.\n",
    "\n",
    "The example will also leverage the `deque` data structure from the `collections` package. \n",
    "\n",
    "> Deques are a generalization of stacks and queues (the name is pronounced “deck” and is short for “double-ended queue”). Deques support thread-safe, memory efficient appends and pops from either side of the deque with approximately the same O(1) performance in either direction. Though `list` objects support similar operations, they are optimized for fast fixed-length operations and incur O(n) memory movement costs for pop(0) and insert(0, v) operations which change both the size and position of the underlying data representation.\n",
    "\n",
    "> `Deque` Documentation: https://docs.python.org/2/library/collections.html#collections.deque"
   ]
  },
  {
   "cell_type": "code",
   "execution_count": 113,
   "metadata": {},
   "outputs": [
    {
     "name": "stdout",
     "output_type": "stream",
     "text": [
      "\n",
      "Queue is: deque(['A'])\n",
      "Exploring A for undiscovered nodes ...\n",
      "Adding B to the queue.\n",
      "Adding C to the queue.\n",
      "\n",
      "Queue is: deque(['B', 'C'])\n",
      "Exploring B for undiscovered nodes ...\n",
      "Adding D to the queue.\n",
      "\n",
      "Queue is: deque(['C', 'D'])\n",
      "Exploring C for undiscovered nodes ...\n",
      "Adding E to the queue.\n",
      "\n",
      "Queue is: deque(['D', 'E'])\n",
      "Exploring D for undiscovered nodes ...\n",
      "Adding F to the queue.\n",
      "\n",
      "Queue is: deque(['E', 'F'])\n",
      "Exploring E for undiscovered nodes ...\n",
      "\n",
      "Queue is: deque(['F'])\n",
      "Exploring F for undiscovered nodes ...\n",
      "\n",
      "BFS Traversal Path, Starting at 'A': deque(['A>B', 'A>C', 'B>D', 'C>E', 'D>F'])\n"
     ]
    }
   ],
   "source": [
    "from collections import deque\n",
    "\n",
    "def bfs(graph, start):\n",
    "    queue = deque(start)\n",
    "    discovered = deque(start)\n",
    "    path = deque()\n",
    "    \n",
    "    \n",
    "    while queue:\n",
    "        print('\\nQueue is: {}'.format(queue))\n",
    "        vertex = queue.popleft()\n",
    "        print(\"Exploring {} for undiscovered nodes ...\".format(vertex))\n",
    "        \n",
    "        for neighbor in graph[vertex]:\n",
    "            if neighbor not in discovered:\n",
    "                queue.append(neighbor)\n",
    "                discovered.append(neighbor)\n",
    "                path.append(vertex + '>' + neighbor)\n",
    "                print('Adding {} to the queue.'.format(neighbor))\n",
    "    \n",
    "    return path\n",
    "    \n",
    "print(\"\\nBFS Traversal Path, Starting at 'A':\", bfs(myGraph, 'A'))"
   ]
  },
  {
   "cell_type": "markdown",
   "metadata": {},
   "source": [
    "### Applying Depth-First Search\n",
    "\n",
    "When performing a Depth-First Search (DFS), the algorithm begins at the graph root and then explores every node from that root down a single path to the end. It then backtracks and begins exploring the paths not taken in the current search path until it reaches the root again. At that point, if other paths to take from the root are available, the algorithm chooses one and begins the search again. \n",
    "\n",
    "The fundamental difference between implementing a DFS versus BFS is that in DFS, newly discovered nodes are pushed onto a stack to be processed rather than a queue. While the below example uses an iterative approach, the reliance on a stack means that you could also implement this kind of search using recursion. The use of recursion would make the algorithm faster, but would also result in higher memory consumption."
   ]
  },
  {
   "cell_type": "code",
   "execution_count": 114,
   "metadata": {},
   "outputs": [
    {
     "name": "stdout",
     "output_type": "stream",
     "text": [
      "\n",
      "Stack is: deque(['A'])\n",
      "Exploring A for undiscovered nodes ...\n",
      "Adding B to the stack.\n",
      "Adding C to the stack.\n",
      "\n",
      "Stack is: deque(['B', 'C'])\n",
      "Exploring C for undiscovered nodes ...\n",
      "Adding D to the stack.\n",
      "Adding E to the stack.\n",
      "\n",
      "Stack is: deque(['B', 'D', 'E'])\n",
      "Exploring E for undiscovered nodes ...\n",
      "Adding F to the stack.\n",
      "\n",
      "Stack is: deque(['B', 'D', 'F'])\n",
      "Exploring F for undiscovered nodes ...\n",
      "\n",
      "Stack is: deque(['B', 'D'])\n",
      "Exploring D for undiscovered nodes ...\n",
      "\n",
      "Stack is: deque(['B'])\n",
      "Exploring B for undiscovered nodes ...\n",
      "\n",
      "DFS Traversal Path, Starting at 'A': ['A>C', 'C>E', 'E>F', 'C>D', 'A>B']\n"
     ]
    }
   ],
   "source": [
    "def dfs(graph, start):\n",
    "    stack = deque(start)\n",
    "    parents = {start: start}\n",
    "    path = []\n",
    "    \n",
    "    while stack:\n",
    "        print('\\nStack is: {}'.format(stack))\n",
    "        vertex = stack.pop()\n",
    "        print(\"Exploring {} for undiscovered nodes ...\".format(vertex))\n",
    "        \n",
    "        for neighbor in graph[vertex]:\n",
    "            if neighbor not in parents:\n",
    "                parents[neighbor] = vertex\n",
    "                stack.append(neighbor) \n",
    "                print('Adding {} to the stack.'.format(neighbor))\n",
    "        path.append(parents[vertex] + '>' + vertex)\n",
    "                \n",
    "    return path[1:]\n",
    "\n",
    "print(\"\\nDFS Traversal Path, Starting at 'A':\", dfs(myGraph, 'A'))"
   ]
  },
  {
   "cell_type": "markdown",
   "metadata": {},
   "source": [
    "### Further Exploration of BFS and DFS Using a Tree Graph"
   ]
  },
  {
   "cell_type": "code",
   "execution_count": 115,
   "metadata": {},
   "outputs": [
    {
     "data": {
      "image/png": "[encoded data removed]",
      "text/plain": [
       "<Figure size 432x288 with 1 Axes>"
      ]
     },
     "metadata": {},
     "output_type": "display_data"
    }
   ],
   "source": [
    "graph2 = {'A': ['B', 'C'],\n",
    "         'B': ['D', 'E'],\n",
    "         'C': ['F', 'G']}\n",
    "\n",
    "newGraph = nx.Graph()\n",
    "\n",
    "for node in graph2:\n",
    "    newGraph.add_nodes_from(node)\n",
    "    for edge in graph2[node]:\n",
    "        newGraph.add_edge(node, edge)\n",
    "        \n",
    "pos2 = {'A': [0.00, 1],\n",
    "       'B': [0.25, 0.5],\n",
    "       'C': [0.25, 1.5],\n",
    "       'D': [0.5, 0.25],\n",
    "       'E': [0.5, 0.75],\n",
    "       'F': [.5, 1.25],\n",
    "       'G': [.5, 1.75]}\n",
    "        \n",
    "\n",
    "nx.draw_networkx(newGraph, pos2)"
   ]
  },
  {
   "cell_type": "code",
   "execution_count": 117,
   "metadata": {},
   "outputs": [
    {
     "name": "stdout",
     "output_type": "stream",
     "text": [
      "\n",
      "Queue is: deque(['A'])\n",
      "Exploring A for undiscovered nodes ...\n",
      "Adding B to the queue.\n",
      "Adding C to the queue.\n",
      "\n",
      "Queue is: deque(['B', 'C'])\n",
      "Exploring B for undiscovered nodes ...\n",
      "Adding D to the queue.\n",
      "Adding E to the queue.\n",
      "\n",
      "Queue is: deque(['C', 'D', 'E'])\n",
      "Exploring C for undiscovered nodes ...\n",
      "Adding F to the queue.\n",
      "Adding G to the queue.\n",
      "\n",
      "Queue is: deque(['D', 'E', 'F', 'G'])\n",
      "Exploring D for undiscovered nodes ...\n",
      "\n",
      "Queue is: deque(['E', 'F', 'G'])\n",
      "Exploring E for undiscovered nodes ...\n",
      "\n",
      "Queue is: deque(['F', 'G'])\n",
      "Exploring F for undiscovered nodes ...\n",
      "\n",
      "Queue is: deque(['G'])\n",
      "Exploring G for undiscovered nodes ...\n",
      "\n",
      "BFS Traversal Path, Starting at 'A': deque(['A>B', 'A>C', 'B>D', 'B>E', 'C>F', 'C>G'])\n",
      "\n",
      "---------------------------------------------------------\n",
      "\n",
      "Stack is: deque(['A'])\n",
      "Exploring A for undiscovered nodes ...\n",
      "Adding B to the stack.\n",
      "Adding C to the stack.\n",
      "\n",
      "Stack is: deque(['B', 'C'])\n",
      "Exploring C for undiscovered nodes ...\n",
      "Adding F to the stack.\n",
      "Adding G to the stack.\n",
      "\n",
      "Stack is: deque(['B', 'F', 'G'])\n",
      "Exploring G for undiscovered nodes ...\n",
      "\n",
      "Stack is: deque(['B', 'F'])\n",
      "Exploring F for undiscovered nodes ...\n",
      "\n",
      "Stack is: deque(['B'])\n",
      "Exploring B for undiscovered nodes ...\n",
      "Adding D to the stack.\n",
      "Adding E to the stack.\n",
      "\n",
      "Stack is: deque(['D', 'E'])\n",
      "Exploring E for undiscovered nodes ...\n",
      "\n",
      "Stack is: deque(['D'])\n",
      "Exploring D for undiscovered nodes ...\n",
      "\n",
      "DFS Traversal Path, Starting at 'A': ['A>C', 'C>G', 'C>F', 'A>B', 'B>E', 'B>D']\n"
     ]
    }
   ],
   "source": [
    "print(\"\\nBFS Traversal Path, Starting at 'A':\", bfs(newGraph, 'A'))\n",
    "print(\"\\n---------------------------------------------------------\")\n",
    "print(\"\\nDFS Traversal Path, Starting at 'A':\", dfs(newGraph, 'A'))"
   ]
  },
  {
   "cell_type": "markdown",
   "metadata": {},
   "source": [
    "## Sorting the Graph Elements\n",
    "\n",
    "The ability to search graphs efficiently relies on sorting. In a sorted graph, you move from less specific to more specifc when performing the search, which means that you don't revisit the previous levels. The following sections review *Directed Acyclic Graphs* (DAGs), which are finite directed graphs that don't have any loops in them. A *loop* creates a situation in which a set of steps repeats until a condition is met or a certain number of iterations has occured. \n",
    "\n",
    "### Directed Acyclic Graphs\n",
    "\n",
    "This kind of graph has all sorts of practical applications, such as schedules, with each node representing a particular milestone. The basic principles of DAGs are that they:\n",
    "\n",
    "- Follow a particular order so that you can't get from one vertex to another and back to the beginning vertex using any route\n",
    "- Provide a specific path from one vertex to another so that you can create a predictable set of routes\n",
    "\n",
    "You see DAGs used for many organizational needs, such as org charts or some kinds of flow charts. DAGs enable you to create predictable routes, which makes DAGs easier to process than many other kinds of graphs you work with. DAGs can also use optional routes - the point is that you take a specific path, but each path can connect to the next level in several different ways.\n",
    "\n",
    "#### Relying on Topological Sorting\n",
    "\n",
    "An important element of DAGs is that you can represent a myriad of activities using them. However, some activities require that you approach tasks in a specific order. This is where topological sorting comes into play. *Topological sorting* orders all the vertexes of a graph on a line with the direct edges pointing from left to right. \n",
    "\n",
    "When you use topological sorting, you organize the graph so that every vertex leads to a later vertex in the sequence. Any sort of scheduling that requires you to move from a specific starting point to a specific ending point can rely on a DAG with topological sorting. \n",
    "\n",
    "Topological sorting can help you determine that your graph has no cycles - it also proves helpful in algorithms that process complex graphs because it shows the best order for processing them. You can obtain the topological sort by using a DFS algorithm. Simply note the processing order of the vertexes by the algorithm ."
   ]
  }
 ],
 "metadata": {
  "kernelspec": {
   "display_name": "Python 3",
   "language": "python",
   "name": "python3"
  },
  "language_info": {
   "codemirror_mode": {
    "name": "ipython",
    "version": 3
   },
   "file_extension": ".py",
   "mimetype": "text/x-python",
   "name": "python",
   "nbconvert_exporter": "python",
   "pygments_lexer": "ipython3",
   "version": "3.6.7"
  }
 },
 "nbformat": 4,
 "nbformat_minor": 2
}
