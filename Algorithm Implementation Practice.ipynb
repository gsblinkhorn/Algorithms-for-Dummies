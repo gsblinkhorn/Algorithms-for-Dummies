{
 "cells": [
  {
   "cell_type": "markdown",
   "metadata": {},
   "source": [
    "# Algorithm Implementation Practice\n",
    "\n",
    "## Return Number of Common Elements Between Datasets\n",
    "Given two sorted arrays of data, return the number of unique numerical elements that exist in both datasets."
   ]
  },
  {
   "cell_type": "code",
   "execution_count": 32,
   "metadata": {},
   "outputs": [
    {
     "name": "stdout",
     "output_type": "stream",
     "text": [
      "Iterative:  4\n",
      "Set Logic:  4\n"
     ]
    }
   ],
   "source": [
    "data1 = [1, 2, 3, 4, 5, 6, 7, 10, 10, 10]\n",
    "data2 = [2, 4, 6, 8, 10, 10]\n",
    "\n",
    "# Iterative Solution\n",
    "def getNumCommonElemsIter(data1, data2):\n",
    "    \n",
    "    count = 0\n",
    "    data1 = list(set(data1))\n",
    "    data2 = list(set(data2))\n",
    "    \n",
    "    while data1 and data2:        \n",
    "        if data1[-1] > data2[-1]:\n",
    "            data1.pop()\n",
    "        elif data2[-1] > data1[-1]:\n",
    "            data2.pop()\n",
    "        else:\n",
    "            count += 1\n",
    "            data1.pop()\n",
    "            data2.pop()\n",
    "    \n",
    "    return count\n",
    "                            \n",
    "print(\"Iterative: \", getNumCommonElemsIter(data1, data2))\n",
    "\n",
    "def getNumCommonElemsSet(data1, data2):\n",
    "    data1 = set(data1)\n",
    "    data2 = set(data2)\n",
    "    return len(data1.intersection(data2))\n",
    "\n",
    "print(\"Set Logic: \", getNumCommonElemsSet(data1, data2))"
   ]
  }
 ],
 "metadata": {
  "kernelspec": {
   "display_name": "Python 3",
   "language": "python",
   "name": "python3"
  },
  "language_info": {
   "codemirror_mode": {
    "name": "ipython",
    "version": 3
   },
   "file_extension": ".py",
   "mimetype": "text/x-python",
   "name": "python",
   "nbconvert_exporter": "python",
   "pygments_lexer": "ipython3",
   "version": "3.6.7"
  }
 },
 "nbformat": 4,
 "nbformat_minor": 2
}
