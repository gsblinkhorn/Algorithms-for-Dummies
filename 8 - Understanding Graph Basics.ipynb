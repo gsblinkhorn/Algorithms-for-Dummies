{
 "cells": [
  {
   "cell_type": "markdown",
   "metadata": {},
   "source": [
    "# Understanding Graph Basics\n",
    "\n",
    "*Graphs* are structures that present a number of nodes (or vertexes) connected by a number of edges or arcs (depending on the representation). When you think about a graph, think about a structure like a map, where each location on the map is a node and the streets are the edges. \n",
    "\n",
    "You can represent graphs in all sorts of ways, most of them abstract, so you need to know how to draw a graph so you can actually see it. The act of turning the numbers that represent a graph into a graphic visualization is called *plotting*. Languages like Python excel at plotting because it's such an important feature. Seeing a graph enables you to perform tasks like computing centrality with greater ease.\n",
    "\n",
    "The numeric presentation of a graph is important, even if it makes understanding the graph hard. With the need to present a graph in a form that the computer can understand in mind, this chapter discusses three techniques for putting a graph into numeric format: matrices, sparse representation and lists.\n",
    "\n",
    "## Explaining the Importance of Networks \n",
    "\n",
    "A *network* is a kind of graph that associates names with the vertexes (nodes or points), edges (arcs or lines), or both. Associating names with the graph features reduces the level of abstraction and makes understanding the graph easier. The data that the graph models becomes real in the mind of the person viewing it, even though the graph truly is an abstraction of the real world put into a form that both humans and computers can understand in different ways. \n",
    "\n",
    "Graphs can represent many kinds of relationships between objects, implying an order sequence, time dependence or causality. \n",
    "\n",
    "### Different Kinds of Graphs\n",
    "\n",
    "Graphs appear as ordered pairs in the form of `G = (V, E)`, where G is the graph, V is a list of vertexes, and E is a list of edges that connect the vertexes. Graphs can also come in several forms, detailed below.\n",
    "- **Undirected Graph:** A graph in which the order of the edge entries doesn't matter - a road map would represent an undirected graph in most cases because traffic can travel along the road in both direction.\n",
    "- **Directed Graph:** A graph in which the order of the edge entries does matter becaus the flow is from the first entry to the second. Most people refer to these edges as *arcs* to differentiate them from undirected entries.\n",
    "- **Mixed Graph:** A graph which combines both directed and undirected subgraphs - for example, a road map which includes one-way streets\n",
    "- **Weighted Graph:** A graph which has values assigned to each of the edges or arcs - for example, a road map which includes the distance between two destinations\n",
    "- **Vertex-labeled Graph:** A graph in which each vertex has a name associated with it, like a road map with a label for every town\n",
    "\n",
    "## Defining How to Draw a Graph\n",
    "\n",
    "While a few people can visualize data directly in their minds, most people really do need a graphic presentation of the data in order to understand it. Tables of numbers are precise and present a lot of information, but they don't do it in a way that people understand.\n",
    "\n",
    "Before you can draw a graph, you need to know about the graph's attributes - the vertexes, edges and arcs that make it up. Any graph you want to draw will contain these elements, and how you represent these elements depends partly upon the package you choose to use. This book relies on a combination of two packages for drawing graphs:\n",
    "\n",
    "- **NetworkX:** contains code for drawing graphs\n",
    "\n",
    "- **matplotlib:** provides access to all sorts of drawing routines, some of which can display graphs created by NetworkX"
   ]
  },
  {
   "cell_type": "code",
   "execution_count": 15,
   "metadata": {},
   "outputs": [
    {
     "data": {
      "image/png": "[encoded data removed]",
      "text/plain": [
       "<Figure size 432x288 with 1 Axes>"
      ]
     },
     "metadata": {},
     "output_type": "display_data"
    }
   ],
   "source": [
    "import networkx as nx\n",
    "import matplotlib.pyplot as plt\n",
    "import warnings\n",
    "warnings.simplefilter('ignore')\n",
    "%matplotlib inline\n",
    "\n",
    "myGraph = nx.Graph()\n",
    "\n",
    "nodes = range(1, 5)\n",
    "edges = [(1, 2), (2, 3), (3, 4), (4, 5), (1, 3), (1, 5)]\n",
    "\n",
    "myGraph.add_nodes_from(nodes)\n",
    "myGraph.add_edges_from(edges)\n",
    "\n",
    "nx.draw(myGraph, with_labels=True, node_color=\"green\", edge_color=\"blue\")"
   ]
  },
  {
   "cell_type": "markdown",
   "metadata": {},
   "source": [
    "## Measuring Graph Functionality\n",
    "\n",
    "After you can visualize and understand a graph, you need to consider the question of which parts of the graph are important. Calculating *centrality*, the most important vertexes in a graph, can help you understand which parts of the graph require more attention. The following sections discuss the basic issues you must consider when measuring *graph functionality*, which is the capability of the graph to model a specific problem.\n",
    "\n",
    "### Counting Edges and Vertexes\n",
    "\n",
    "The number of edges and vertexes in a graph determines graph complexity. However, you use the combination of edges and vertexes to tell the full story. For example, you can have a node that isn't connected to the other nodes in any way - such a node represents a value that lacks connections to the others. \n",
    "\n",
    "The output of the code below shows that nodes 1 - 5 are connected and that node 6 lacks a connection.\n",
    "\n",
    "The count of edges to a particular node is the *degree* of a given node. The higher the degree, the more complex the node becomes. By knowing the degree, you can develop an idea of which nodes are most important."
   ]
  },
  {
   "cell_type": "code",
   "execution_count": 31,
   "metadata": {},
   "outputs": [
    {
     "name": "stdout",
     "output_type": "stream",
     "text": [
      "Connected Components:  [{1, 2, 3, 4, 5}, {6}]\n",
      "Node Degrees (node, degree):  [(1, 3), (2, 2), (3, 3), (4, 2), (5, 2), (6, 0)]\n"
     ]
    },
    {
     "data": {
      "image/png": "[encoded data removed]",
      "text/plain": [
       "<Figure size 432x288 with 1 Axes>"
      ]
     },
     "metadata": {},
     "output_type": "display_data"
    }
   ],
   "source": [
    "myGraph = nx.Graph()\n",
    "\n",
    "nodes = range(1, 7)\n",
    "edges = [(1, 2), (2, 3), (3, 4), (4, 5), (1, 3), (1, 5)]\n",
    "\n",
    "myGraph.add_nodes_from(nodes)\n",
    "myGraph.add_edges_from(edges)\n",
    "\n",
    "print(\"Connected Components: \", sorted(nx.connected_components(myGraph)))\n",
    "\n",
    "nx.draw(myGraph, with_labels=True, node_color=\"green\", edge_color=\"blue\")\n",
    "\n",
    "print(\"Node Degrees (node, degree): \", myGraph.degree(nodes))"
   ]
  },
  {
   "cell_type": "markdown",
   "metadata": {},
   "source": [
    "### Clustering\n",
    "\n",
    "When modeling real-world data, such as the tweets about a particular topic, the nodes also tend to cluster. You might think of this tendency as a kind of trending - what people feel is important now. Measuring this tendency helps you understand which group of nodes is most important in a graph.\n",
    "\n",
    "Clustering graphs helps aid your understanding of the data. The technique helps show that there are nodes in the graph that are better connected and nodes that risk isolation. When you understand how elements connect in a graph, you can determine how to strengthen its structure (or destroy it).\n",
    "\n",
    "The output of the code below shows that the nodes are most likely to cluster around node 2 even though node 1 has a higher degree. That's because both nodes 1 and 3 have high degrees and node 2 is between them."
   ]
  },
  {
   "cell_type": "code",
   "execution_count": 32,
   "metadata": {},
   "outputs": [
    {
     "data": {
      "text/plain": [
       "{1: 0.3333333333333333, 2: 1.0, 3: 0.3333333333333333, 4: 0, 5: 0, 6: 0}"
      ]
     },
     "execution_count": 32,
     "metadata": {},
     "output_type": "execute_result"
    }
   ],
   "source": [
    "myGraph = nx.Graph()\n",
    "\n",
    "nodes = range(1, 7)\n",
    "edges = [(1, 2), (2, 3), (3, 4), (4, 5), (1, 3), (1, 5)]\n",
    "\n",
    "myGraph.add_nodes_from(nodes)\n",
    "myGraph.add_edges_from(edges)\n",
    "\n",
    "nx.clustering(myGraph)"
   ]
  },
  {
   "cell_type": "markdown",
   "metadata": {},
   "source": [
    "### Computing Centrality\n",
    "\n",
    "Centrality comes in a number of different forms because importance often depends on different factors. There are many ways of calculating centrality, and which one to use is dependent on the important characteristics of your graph. Fortunately, `NetworkX` provides you with a number of methods for calculating centrality. They include:\n",
    "- **Degree Centrality: ** assigns an importance score based purely on the number of links held by each node; when working with directed graphs, you can calculate both in_degree_centrality and out_degree_centrality for a node\n",
    "- **Closeness Centrality: ** the reciprocal of the sum of the length of the shortest paths between the node and all other nodes in the graph. Thus, the more central a node is, the closer it is to all other nodes.\n",
    "- **Betweeness Centrality: ** is a measure of centrality in a graph based on shortest paths. For every pair of vertices in a connected graph, there exists at least one shortest path between the vertices such that either the number of edges that the path passes through (for unweighted graphs) or the sum of the weights of the edges (for weighted graphs) is minimized. The betweenness centrality for each vertex is the number of these shortest paths that pass through the vertex.\n",
    "\n",
    "NetworkX provides a number of other centrality functions as well. The important consideration is determining how you want to calculate importance. Considering centrality in light of the kind of importance you want to attach to the vertexes and edges in a graph is essential."
   ]
  },
  {
   "cell_type": "code",
   "execution_count": 38,
   "metadata": {},
   "outputs": [
    {
     "name": "stdout",
     "output_type": "stream",
     "text": [
      "Degree Centrality:\n",
      " {1: 0.8, 2: 0.4, 3: 0.6000000000000001, 4: 0.4, 5: 0.4, 6: 0.2}\n",
      "\n",
      "Closeness Centrality:\n",
      " {1: 0.8333333333333334, 2: 0.625, 3: 0.7142857142857143, 4: 0.5555555555555556, 5: 0.625, 6: 0.5}\n",
      "\n",
      "Betweenness Centrality:\n",
      " {1: 0.55, 2: 0.0, 3: 0.2, 4: 0.05, 5: 0.1, 6: 0.0}\n"
     ]
    },
    {
     "data": {
      "image/png": "[encoded data removed]",
      "text/plain": [
       "<Figure size 432x288 with 1 Axes>"
      ]
     },
     "metadata": {},
     "output_type": "display_data"
    }
   ],
   "source": [
    "myGraph = nx.Graph()\n",
    "\n",
    "nodes = range(1, 7)\n",
    "edges = [(1, 2), (2, 3), (3, 4), (4, 5), (1, 3), (1, 5), (1, 6)]\n",
    "\n",
    "myGraph.add_nodes_from(nodes)\n",
    "myGraph.add_edges_from(edges)\n",
    "\n",
    "print(\"Degree Centrality:\\n\", nx.degree_centrality(myGraph))\n",
    "print(\"\\nCloseness Centrality:\\n\", nx.closeness_centrality(myGraph))\n",
    "print(\"\\nBetweenness Centrality:\\n\", nx.betweenness_centrality(myGraph))\n",
    "\n",
    "nx.draw(myGraph, with_labels=True, node_color=\"green\", edge_color=\"blue\")"
   ]
  },
  {
   "cell_type": "markdown",
   "metadata": {},
   "source": [
    "## Putting a Graph in Numeric Format\n",
    "\n",
    "Precision is an important part of using algorithms. Often, the more detail you can provide, the better the results you receive. To use certain algorithms, the data you provide must appear in certain forms or the result you receive won't make sense.\n",
    "\n",
    "Fortunately, `NetworkX` provides a number of functions to convert your graph into forms that other packages and environments can use, including a `NumPy` matrix, a `SciPy` sparse representation and a Python Dictionary of lists.\n",
    "\n",
    "### NumPy Matrix\n",
    "\n",
    "You use `NumPy` to perform all sorts of data manipulation tasks. By analyzing the data in a graph, you might see patterns that wouldn't ordinarily be visible. The rows and columns in the matrix represent the nodes in the graph, and the value of 1 at a given cell represents a connection between those two nodes.\n",
    "\n",
    "The size of the matrix is affected by the number of nodes, and the total number of cells is the square of the number of nodes."
   ]
  },
  {
   "cell_type": "code",
   "execution_count": 39,
   "metadata": {},
   "outputs": [
    {
     "data": {
      "text/plain": [
       "matrix([[0., 1., 1., 0., 1., 1.],\n",
       "        [1., 0., 1., 0., 0., 0.],\n",
       "        [1., 1., 0., 1., 0., 0.],\n",
       "        [0., 0., 1., 0., 1., 0.],\n",
       "        [1., 0., 0., 1., 0., 0.],\n",
       "        [1., 0., 0., 0., 0., 0.]])"
      ]
     },
     "execution_count": 39,
     "metadata": {},
     "output_type": "execute_result"
    }
   ],
   "source": [
    "myGraph = nx.Graph()\n",
    "\n",
    "nodes = range(1, 7)\n",
    "edges = [(1, 2), (2, 3), (3, 4), (4, 5), (1, 3), (1, 5), (1, 6)]\n",
    "\n",
    "myGraph.add_nodes_from(nodes)\n",
    "myGraph.add_edges_from(edges)\n",
    "\n",
    "nx.to_numpy_matrix(myGraph)"
   ]
  },
  {
   "cell_type": "markdown",
   "metadata": {},
   "source": [
    "### Sparse Representations\n",
    "\n",
    "The `SciPy` package also performs various math, scientific and engineering tasks. When using this package, you can rely on a sparse matrix to hold the data. A sparse matrix is one in which only the action connections appear in the matrix; all other entries don't exist. The coordinates are indexed from zero, so (0, 1) actually refers to a connection between nodes 1 and 2."
   ]
  },
  {
   "cell_type": "code",
   "execution_count": 41,
   "metadata": {},
   "outputs": [
    {
     "name": "stdout",
     "output_type": "stream",
     "text": [
      "  (0, 1)\t1\n",
      "  (0, 2)\t1\n",
      "  (0, 4)\t1\n",
      "  (0, 5)\t1\n",
      "  (1, 0)\t1\n",
      "  (1, 2)\t1\n",
      "  (2, 0)\t1\n",
      "  (2, 1)\t1\n",
      "  (2, 3)\t1\n",
      "  (3, 2)\t1\n",
      "  (3, 4)\t1\n",
      "  (4, 0)\t1\n",
      "  (4, 3)\t1\n",
      "  (5, 0)\t1\n"
     ]
    }
   ],
   "source": [
    "myGraph = nx.Graph()\n",
    "\n",
    "nodes = range(1, 7)\n",
    "edges = [(1, 2), (2, 3), (3, 4), (4, 5), (1, 3), (1, 5), (1, 6)]\n",
    "\n",
    "myGraph.add_nodes_from(nodes)\n",
    "myGraph.add_edges_from(edges)\n",
    "\n",
    "print(nx.to_scipy_sparse_matrix(myGraph))"
   ]
  },
  {
   "cell_type": "markdown",
   "metadata": {},
   "source": [
    "### Python Dictionary of Lists\n",
    "\n",
    "Depending on your needs, you might find that you also require the ability to create a dictionary of lists. Each node represents a dictionary entry, followed by a list of the nodes to which it connects."
   ]
  },
  {
   "cell_type": "code",
   "execution_count": 42,
   "metadata": {},
   "outputs": [
    {
     "data": {
      "text/plain": [
       "{1: [2, 3, 5, 6], 2: [1, 3], 3: [2, 4, 1], 4: [3, 5], 5: [4, 1], 6: [1]}"
      ]
     },
     "execution_count": 42,
     "metadata": {},
     "output_type": "execute_result"
    }
   ],
   "source": [
    "myGraph = nx.Graph()\n",
    "\n",
    "nodes = range(1, 7)\n",
    "edges = [(1, 2), (2, 3), (3, 4), (4, 5), (1, 3), (1, 5), (1, 6)]\n",
    "\n",
    "myGraph.add_nodes_from(nodes)\n",
    "myGraph.add_edges_from(edges)\n",
    "\n",
    "nx.to_dict_of_lists(myGraph)"
   ]
  }
 ],
 "metadata": {
  "kernelspec": {
   "display_name": "Python 3",
   "language": "python",
   "name": "python3"
  },
  "language_info": {
   "codemirror_mode": {
    "name": "ipython",
    "version": 3
   },
   "file_extension": ".py",
   "mimetype": "text/x-python",
   "name": "python",
   "nbconvert_exporter": "python",
   "pygments_lexer": "ipython3",
   "version": "3.6.7"
  }
 },
 "nbformat": 4,
 "nbformat_minor": 2
}
