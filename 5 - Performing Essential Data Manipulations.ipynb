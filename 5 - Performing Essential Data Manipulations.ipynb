{
 "cells": [
  {
   "cell_type": "markdown",
   "metadata": {},
   "source": [
    "# Performing Calculations Using Vectors and Matrices \n",
    "\n",
    "## Introducing NumPy\n",
    "The NumPy package provides essential functionality for scientific computing in Python. To use NumPy, you import it using ```import numpy as np```, allowing you to access the NumPy library through the common abbreviation ```np```. \n",
    "\n",
    "Python provides access to just one data type in any particular category. However, in scientific calculations, you often need better control over how data appears in memory, which means having more data types, something that ```numpy``` provides for you.\n",
    "\n",
    "**E.G.** To define a scalar as a ```short``` (a 16-bit value), you could define it as ```myShort = np.short(yourScalar)```.\n",
    "\n",
    "### Definitions\n",
    "*scalar* - a single base data item, such as the number 2 shown by itself\n",
    "\n",
    "*vector* - a one-dimensional array of scalars; it is access via a zero-based index\n",
    "\n",
    "*matrix* - a two-or-more dimensional array of scalar"
   ]
  },
  {
   "cell_type": "markdown",
   "metadata": {},
   "source": [
    "### Understanding Scalar and Vector Operations\n",
    "\n",
    "#### Use the ```numpy array``` function to create a vector"
   ]
  },
  {
   "cell_type": "code",
   "execution_count": 3,
   "metadata": {},
   "outputs": [
    {
     "data": {
      "text/plain": [
       "array([1, 2, 3, 4])"
      ]
     },
     "execution_count": 3,
     "metadata": {},
     "output_type": "execute_result"
    }
   ],
   "source": [
    "import numpy as np\n",
    "\n",
    "myVect = np.array([1, 2, 3, 4])\n",
    "myVect"
   ]
  },
  {
   "cell_type": "markdown",
   "metadata": {},
   "source": [
    "#### Use `np.arange(start, end, stepSize)` to create a vector"
   ]
  },
  {
   "cell_type": "code",
   "execution_count": 4,
   "metadata": {},
   "outputs": [
    {
     "data": {
      "text/plain": [
       "array([1, 3, 5, 7, 9])"
      ]
     },
     "execution_count": 4,
     "metadata": {},
     "output_type": "execute_result"
    }
   ],
   "source": [
    "myVect = np.arange(1, 10, 2)\n",
    "myVect"
   ]
  },
  {
   "cell_type": "markdown",
   "metadata": {},
   "source": [
    "#### Create a vector with a specific data type"
   ]
  },
  {
   "cell_type": "code",
   "execution_count": 6,
   "metadata": {},
   "outputs": [
    {
     "data": {
      "text/plain": [
       "array([1, 2, 3, 4], dtype=int16)"
      ]
     },
     "execution_count": 6,
     "metadata": {},
     "output_type": "execute_result"
    }
   ],
   "source": [
    "myVect = np.array(np.int16([1, 2, 3, 4]))\n",
    "myVect"
   ]
  },
  {
   "cell_type": "markdown",
   "metadata": {},
   "source": [
    "#### Create special vectors with `np.ones` and `np.zeros` "
   ]
  },
  {
   "cell_type": "code",
   "execution_count": 38,
   "metadata": {},
   "outputs": [
    {
     "data": {
      "text/plain": [
       "array([1, 1, 1, 1, 1], dtype=int16)"
      ]
     },
     "execution_count": 38,
     "metadata": {},
     "output_type": "execute_result"
    }
   ],
   "source": [
    "myVect = np.ones(5, dtype=np.int16)\n",
    "myVect"
   ]
  },
  {
   "cell_type": "code",
   "execution_count": 39,
   "metadata": {},
   "outputs": [
    {
     "data": {
      "text/plain": [
       "array([0, 0, 0, 0, 0], dtype=int16)"
      ]
     },
     "execution_count": 39,
     "metadata": {},
     "output_type": "execute_result"
    }
   ],
   "source": [
    "myVect = np.zeros(5, dtype=np.int16)\n",
    "myVect"
   ]
  },
  {
   "cell_type": "code",
   "execution_count": 16,
   "metadata": {},
   "outputs": [
    {
     "data": {
      "text/plain": [
       "array([[0, 0],\n",
       "       [0, 0],\n",
       "       [0, 0]], dtype=int16)"
      ]
     },
     "execution_count": 16,
     "metadata": {},
     "output_type": "execute_result"
    }
   ],
   "source": []
  },
  {
   "cell_type": "markdown",
   "metadata": {},
   "source": [
    "#### Manipulating vectors\n",
    "You can perform basic math functions on vectors as a whole, whcih makes this incredibly useful and less prone to errors that can occur when using programming constructs such as loops to perform the same task. "
   ]
  },
  {
   "cell_type": "code",
   "execution_count": 21,
   "metadata": {},
   "outputs": [
    {
     "data": {
      "text/plain": [
       "array([1, 2, 3, 4], dtype=int16)"
      ]
     },
     "execution_count": 21,
     "metadata": {},
     "output_type": "execute_result"
    }
   ],
   "source": [
    "myVect = np.array(np.int16([1, 2, 3, 4]))\n",
    "myVect"
   ]
  },
  {
   "cell_type": "code",
   "execution_count": 22,
   "metadata": {},
   "outputs": [
    {
     "data": {
      "text/plain": [
       "array([2, 3, 4, 5], dtype=int16)"
      ]
     },
     "execution_count": 22,
     "metadata": {},
     "output_type": "execute_result"
    }
   ],
   "source": [
    "myVect = myVect + 1\n",
    "myVect"
   ]
  },
  {
   "cell_type": "code",
   "execution_count": 23,
   "metadata": {},
   "outputs": [
    {
     "data": {
      "text/plain": [
       "array([0, 1, 2, 3], dtype=int16)"
      ]
     },
     "execution_count": 23,
     "metadata": {},
     "output_type": "execute_result"
    }
   ],
   "source": [
    "myVect = myVect - 2\n",
    "myVect"
   ]
  },
  {
   "cell_type": "code",
   "execution_count": 24,
   "metadata": {},
   "outputs": [
    {
     "data": {
      "text/plain": [
       "array([1, 2, 4, 8], dtype=int16)"
      ]
     },
     "execution_count": 24,
     "metadata": {},
     "output_type": "execute_result"
    }
   ],
   "source": [
    "myVect = 2 ** myVect\n",
    "myVect"
   ]
  },
  {
   "cell_type": "markdown",
   "metadata": {},
   "source": [
    "#### Performing logical and comparison tasks"
   ]
  },
  {
   "cell_type": "code",
   "execution_count": 25,
   "metadata": {},
   "outputs": [
    {
     "data": {
      "text/plain": [
       "array([False,  True, False,  True])"
      ]
     },
     "execution_count": 25,
     "metadata": {},
     "output_type": "execute_result"
    }
   ],
   "source": [
    "a = np.array([1, 2, 3, 4])\n",
    "b = np.array([2, 2, 4, 4])\n",
    "\n",
    "a == b"
   ]
  },
  {
   "cell_type": "code",
   "execution_count": 26,
   "metadata": {},
   "outputs": [
    {
     "data": {
      "text/plain": [
       "array([ True, False,  True, False])"
      ]
     },
     "execution_count": 26,
     "metadata": {},
     "output_type": "execute_result"
    }
   ],
   "source": [
    "a < b"
   ]
  },
  {
   "cell_type": "markdown",
   "metadata": {},
   "source": [
    "#### Logical operations rely on special functions"
   ]
  },
  {
   "cell_type": "code",
   "execution_count": 27,
   "metadata": {},
   "outputs": [
    {
     "data": {
      "text/plain": [
       "array([ True,  True,  True, False])"
      ]
     },
     "execution_count": 27,
     "metadata": {},
     "output_type": "execute_result"
    }
   ],
   "source": [
    "a = np.array([True, False, True, False])\n",
    "b = np.array([True, True, False, False])\n",
    "\n",
    "np.logical_or(a, b)"
   ]
  },
  {
   "cell_type": "code",
   "execution_count": 28,
   "metadata": {},
   "outputs": [
    {
     "data": {
      "text/plain": [
       "array([ True, False, False, False])"
      ]
     },
     "execution_count": 28,
     "metadata": {},
     "output_type": "execute_result"
    }
   ],
   "source": [
    "np.logical_and(a, b)"
   ]
  },
  {
   "cell_type": "code",
   "execution_count": 29,
   "metadata": {},
   "outputs": [
    {
     "data": {
      "text/plain": [
       "array([False,  True, False,  True])"
      ]
     },
     "execution_count": 29,
     "metadata": {},
     "output_type": "execute_result"
    }
   ],
   "source": [
    "np.logical_not(a)"
   ]
  },
  {
   "cell_type": "code",
   "execution_count": 30,
   "metadata": {},
   "outputs": [
    {
     "data": {
      "text/plain": [
       "array([False,  True,  True, False])"
      ]
     },
     "execution_count": 30,
     "metadata": {},
     "output_type": "execute_result"
    }
   ],
   "source": [
    "np.logical_xor(a, b)"
   ]
  },
  {
   "cell_type": "markdown",
   "metadata": {},
   "source": [
    "### Performing vector multiplication"
   ]
  },
  {
   "cell_type": "code",
   "execution_count": 31,
   "metadata": {},
   "outputs": [
    {
     "data": {
      "text/plain": [
       "array([ 1,  4,  9, 16])"
      ]
     },
     "execution_count": 31,
     "metadata": {},
     "output_type": "execute_result"
    }
   ],
   "source": [
    "myVect = np.array([1, 2, 3, 4])\n",
    "\n",
    "myVect * myVect"
   ]
  },
  {
   "cell_type": "markdown",
   "metadata": {},
   "source": [
    "#### The Dot Production\n",
    "Unfortunately, an element-by-element multiplication can produce incorrect results when working with algorithms. In many cases, what you really need is a *dot product*, which is the sum of the products of two number sequences."
   ]
  },
  {
   "cell_type": "code",
   "execution_count": 32,
   "metadata": {},
   "outputs": [
    {
     "data": {
      "text/plain": [
       "30"
      ]
     },
     "execution_count": 32,
     "metadata": {},
     "output_type": "execute_result"
    }
   ],
   "source": [
    "myVect.dot(myVect)"
   ]
  },
  {
   "cell_type": "markdown",
   "metadata": {},
   "source": [
    "### Creating a Matrix"
   ]
  },
  {
   "cell_type": "code",
   "execution_count": 34,
   "metadata": {},
   "outputs": [
    {
     "data": {
      "text/plain": [
       "array([[1, 2, 3],\n",
       "       [4, 5, 6],\n",
       "       [7, 8, 9]])"
      ]
     },
     "execution_count": 34,
     "metadata": {},
     "output_type": "execute_result"
    }
   ],
   "source": [
    "myMat = np.array([[1, 2, 3],\n",
    "                [4, 5, 6],\n",
    "                [7, 8, 9]])\n",
    "myMat"
   ]
  },
  {
   "cell_type": "markdown",
   "metadata": {},
   "source": [
    "#### Accessing Values"
   ]
  },
  {
   "cell_type": "code",
   "execution_count": 35,
   "metadata": {},
   "outputs": [
    {
     "data": {
      "text/plain": [
       "5"
      ]
     },
     "execution_count": 35,
     "metadata": {},
     "output_type": "execute_result"
    }
   ],
   "source": [
    "myMat[1, 1]"
   ]
  },
  {
   "cell_type": "markdown",
   "metadata": {},
   "source": [
    "#### You can produce matrices  with any number of dimensions"
   ]
  },
  {
   "cell_type": "code",
   "execution_count": 36,
   "metadata": {},
   "outputs": [
    {
     "data": {
      "text/plain": [
       "array([[[1, 2],\n",
       "        [3, 4]],\n",
       "\n",
       "       [[5, 6],\n",
       "        [7, 8]]])"
      ]
     },
     "execution_count": 36,
     "metadata": {},
     "output_type": "execute_result"
    }
   ],
   "source": [
    "myMat = np.array([[[1, 2],\n",
    "                   [3, 4]],\n",
    "                  [[5, 6],\n",
    "                   [7, 8]]])\n",
    "myMat"
   ]
  },
  {
   "cell_type": "code",
   "execution_count": 37,
   "metadata": {},
   "outputs": [
    {
     "data": {
      "text/plain": [
       "8"
      ]
     },
     "execution_count": 37,
     "metadata": {},
     "output_type": "execute_result"
    }
   ],
   "source": [
    "myMat[1, 1, 1]"
   ]
  },
  {
   "cell_type": "markdown",
   "metadata": {},
   "source": [
    "#### Create special matrices with `np.ones` and `np.zeros`"
   ]
  },
  {
   "cell_type": "code",
   "execution_count": 40,
   "metadata": {},
   "outputs": [
    {
     "data": {
      "text/plain": [
       "array([[1, 1, 1, 1],\n",
       "       [1, 1, 1, 1]], dtype=int16)"
      ]
     },
     "execution_count": 40,
     "metadata": {},
     "output_type": "execute_result"
    }
   ],
   "source": [
    "myMat = np.ones((2,4), dtype=np.int16)\n",
    "myMat"
   ]
  },
  {
   "cell_type": "code",
   "execution_count": 41,
   "metadata": {},
   "outputs": [
    {
     "data": {
      "text/plain": [
       "array([[0, 0],\n",
       "       [0, 0],\n",
       "       [0, 0]], dtype=int16)"
      ]
     },
     "execution_count": 41,
     "metadata": {},
     "output_type": "execute_result"
    }
   ],
   "source": [
    "myMat = np.zeros((3,2), dtype=np.int16)\n",
    "myMat"
   ]
  },
  {
   "cell_type": "markdown",
   "metadata": {},
   "source": [
    "#### The `numpy.mat` function"
   ]
  },
  {
   "cell_type": "code",
   "execution_count": 42,
   "metadata": {},
   "outputs": [
    {
     "data": {
      "text/plain": [
       "matrix([[1, 2, 3],\n",
       "        [4, 5, 6],\n",
       "        [5, 6, 7]])"
      ]
     },
     "execution_count": 42,
     "metadata": {},
     "output_type": "execute_result"
    }
   ],
   "source": [
    "myMat = np.mat([[1, 2, 3],\n",
    "                [4, 5, 6],\n",
    "                [5, 6, 7]])\n",
    "myMat"
   ]
  },
  {
   "cell_type": "markdown",
   "metadata": {},
   "source": [
    "### Multiplying Matrices\n",
    "#### Element-by-Element"
   ]
  },
  {
   "cell_type": "code",
   "execution_count": 43,
   "metadata": {},
   "outputs": [
    {
     "data": {
      "text/plain": [
       "array([[ 1,  4,  9],\n",
       "       [16, 25, 36]])"
      ]
     },
     "execution_count": 43,
     "metadata": {},
     "output_type": "execute_result"
    }
   ],
   "source": [
    "a = np.array([[1, 2, 3],\n",
    "              [4, 5, 6]])\n",
    "b = np.array([[1, 2, 3],\n",
    "              [4, 5, 6]])\n",
    "\n",
    "a * b"
   ]
  },
  {
   "cell_type": "markdown",
   "metadata": {},
   "source": [
    "#### Dot Product\n",
    "Dot products work completely differently with matrices. The number of columns in matrix amust math the number of rows in matrix b."
   ]
  },
  {
   "cell_type": "code",
   "execution_count": 44,
   "metadata": {},
   "outputs": [
    {
     "data": {
      "text/plain": [
       "array([[22, 28, 34],\n",
       "       [49, 64, 79]])"
      ]
     },
     "execution_count": 44,
     "metadata": {},
     "output_type": "execute_result"
    }
   ],
   "source": [
    "a = np.array([[1, 2, 3],\n",
    "              [4, 5, 6]])\n",
    "b = np.array([[1, 2, 3],\n",
    "              [3, 4, 5],\n",
    "              [5, 6, 7]])\n",
    "\n",
    "a.dot(b)"
   ]
  },
  {
   "cell_type": "markdown",
   "metadata": {},
   "source": [
    "The matrix class makes multiplication simpler."
   ]
  },
  {
   "cell_type": "code",
   "execution_count": 48,
   "metadata": {},
   "outputs": [
    {
     "data": {
      "text/plain": [
       "matrix([[22, 28, 34],\n",
       "        [49, 64, 79]])"
      ]
     },
     "execution_count": 48,
     "metadata": {},
     "output_type": "execute_result"
    }
   ],
   "source": [
    "a = np.mat([[1, 2, 3],\n",
    "              [4, 5, 6]])\n",
    "b = np.mat([[1, 2, 3],\n",
    "              [3, 4, 5],\n",
    "              [5, 6, 7]])\n",
    "a * b"
   ]
  },
  {
   "cell_type": "markdown",
   "metadata": {},
   "source": [
    "### Defining Advanced Matrix Operations\n",
    "#### The `np.reshape(x, y)` function"
   ]
  },
  {
   "cell_type": "code",
   "execution_count": 59,
   "metadata": {},
   "outputs": [
    {
     "data": {
      "text/plain": [
       "array([1, 2, 3, 4, 5, 6, 7, 8])"
      ]
     },
     "execution_count": 59,
     "metadata": {},
     "output_type": "execute_result"
    }
   ],
   "source": [
    "changeIt = np.array([1, 2, 3, 4, 5, 6, 7, 8])\n",
    "changeIt"
   ]
  },
  {
   "cell_type": "code",
   "execution_count": 60,
   "metadata": {},
   "outputs": [
    {
     "data": {
      "text/plain": [
       "array([[1, 2, 3, 4],\n",
       "       [5, 6, 7, 8]])"
      ]
     },
     "execution_count": 60,
     "metadata": {},
     "output_type": "execute_result"
    }
   ],
   "source": [
    "changeIt = changeIt.reshape(2, 4)\n",
    "changeIt"
   ]
  },
  {
   "cell_type": "code",
   "execution_count": 61,
   "metadata": {},
   "outputs": [
    {
     "data": {
      "text/plain": [
       "array([[[1, 2],\n",
       "        [3, 4]],\n",
       "\n",
       "       [[5, 6],\n",
       "        [7, 8]]])"
      ]
     },
     "execution_count": 61,
     "metadata": {},
     "output_type": "execute_result"
    }
   ],
   "source": [
    "changeIt.reshape(2, 2, 2)"
   ]
  },
  {
   "cell_type": "markdown",
   "metadata": {},
   "source": [
    "#### Transpose Matrices"
   ]
  },
  {
   "cell_type": "code",
   "execution_count": 62,
   "metadata": {},
   "outputs": [
    {
     "data": {
      "text/plain": [
       "array([[1, 5],\n",
       "       [2, 6],\n",
       "       [3, 7],\n",
       "       [4, 8]])"
      ]
     },
     "execution_count": 62,
     "metadata": {},
     "output_type": "execute_result"
    }
   ],
   "source": [
    "np.transpose(changeIt)"
   ]
  },
  {
   "cell_type": "markdown",
   "metadata": {},
   "source": [
    "## Creating Combinations the Right Way\n",
    "### Distinguishing Permutations\n",
    "#### Random Permutations"
   ]
  },
  {
   "cell_type": "code",
   "execution_count": 64,
   "metadata": {},
   "outputs": [
    {
     "data": {
      "text/plain": [
       "array([2, 3, 1])"
      ]
     },
     "execution_count": 64,
     "metadata": {},
     "output_type": "execute_result"
    }
   ],
   "source": [
    "a = np.array([1, 2, 3])\n",
    "np.random.permutation(a)"
   ]
  },
  {
   "cell_type": "markdown",
   "metadata": {},
   "source": [
    "#### Fetching All Permutations"
   ]
  },
  {
   "cell_type": "code",
   "execution_count": 65,
   "metadata": {},
   "outputs": [
    {
     "name": "stdout",
     "output_type": "stream",
     "text": [
      "(1, 2, 3)\n",
      "(1, 3, 2)\n",
      "(2, 1, 3)\n",
      "(2, 3, 1)\n",
      "(3, 1, 2)\n",
      "(3, 2, 1)\n"
     ]
    }
   ],
   "source": [
    "from itertools import permutations\n",
    "\n",
    "for p in permutations(a):\n",
    "    print(p)"
   ]
  },
  {
   "cell_type": "markdown",
   "metadata": {},
   "source": [
    "### Shuffling Combinations\n",
    "In some cases, you don't need an entire dataset; all you really need are a few of the members in combinations of a specific length."
   ]
  },
  {
   "cell_type": "code",
   "execution_count": 68,
   "metadata": {},
   "outputs": [
    {
     "name": "stdout",
     "output_type": "stream",
     "text": [
      "(1, 2)\n",
      "(1, 3)\n",
      "(1, 4)\n",
      "(2, 3)\n",
      "(2, 4)\n",
      "(3, 4)\n"
     ]
    }
   ],
   "source": [
    "from itertools import combinations\n",
    "import random\n",
    "\n",
    "a = np.array([1, 2, 3, 4])\n",
    "\n",
    "for c in combinations(a, 2):\n",
    "    print(c)"
   ]
  },
  {
   "cell_type": "code",
   "execution_count": 69,
   "metadata": {},
   "outputs": [
    {
     "data": {
      "text/plain": [
       "[(2, 3), (1, 3), (3, 4)]"
      ]
     },
     "execution_count": 69,
     "metadata": {},
     "output_type": "execute_result"
    }
   ],
   "source": [
    "pool = []\n",
    "\n",
    "for c in combinations(a, 2):\n",
    "    pool.append(c)\n",
    "    \n",
    "random.sample(pool, 3)"
   ]
  },
  {
   "cell_type": "markdown",
   "metadata": {},
   "source": [
    "### Facing Repititions\n",
    "Repeated data can unfairly weight the output of an algorithm so that you get inaccurate results. Python makes it easy to remove certain types of repeated data."
   ]
  },
  {
   "cell_type": "code",
   "execution_count": 72,
   "metadata": {},
   "outputs": [
    {
     "data": {
      "text/plain": [
       "array([1, 2, 3, 4, 5, 6, 7])"
      ]
     },
     "execution_count": 72,
     "metadata": {},
     "output_type": "execute_result"
    }
   ],
   "source": [
    "a = np.array([1, 2, 3, 4, 5, 6, 6, 7, 7, 1, 2, 3])\n",
    "b = np.array(list(set(a)))\n",
    "\n",
    "b"
   ]
  },
  {
   "cell_type": "markdown",
   "metadata": {},
   "source": [
    "## Getting the Desired Results Using Recursion\n",
    "\n",
    "*Recursion* is an elegant method of solving many computer problems that relies on the capability of a function to continue calling itself until it satisfies a particular condition. A recursive function does something, and then calls itself repeatedly until the task reaches a specific condition - but all those previous calls are still active. The calls unwind themselves one at a time until the first call finally ends with the correct answer."
   ]
  },
  {
   "cell_type": "code",
   "execution_count": 78,
   "metadata": {},
   "outputs": [
    {
     "name": "stdout",
     "output_type": "stream",
     "text": [
      "Calculating recursiveFactorial(5) ...\n",
      "Calculating recursiveFactorial(4) ...\n",
      "Calculating recursiveFactorial(3) ...\n",
      "Calculating recursiveFactorial(2) ...\n",
      "Calculating recursiveFactorial(1) ...\n",
      "\n",
      "End condition met.\n",
      "\n",
      "120\n"
     ]
    }
   ],
   "source": [
    "def recursiveFactorial(n):\n",
    "    print(\"Calculating recursiveFactorial({}) ...\".format(n))\n",
    "    if n == 1 or n == 0:\n",
    "        print(\"\\nEnd condition met.\\n\")\n",
    "        return 1\n",
    "    else:\n",
    "        return n * recursiveFactorial(n-1)\n",
    "    \n",
    "print(recursiveFactorial(5))"
   ]
  },
  {
   "cell_type": "markdown",
   "metadata": {},
   "source": [
    "### Eliminating Tail Call Recursion\n",
    "a *tail call* occurs any time the recursion makes a call to the function as the last thing before it returns. Using a tail call forces Python to keep track of the individual call values until the recursion rewinds - each call consumes memory. \n",
    "\n",
    "With a little fancy programming, you can potentially eliminate tail calls from your recursive routines; however, the simplest approach to take when you want to eliminate recursion is to create an iterative alternative that performs the same task."
   ]
  },
  {
   "cell_type": "code",
   "execution_count": 84,
   "metadata": {},
   "outputs": [
    {
     "name": "stdout",
     "output_type": "stream",
     "text": [
      "Calculating iterativeFactorial(5)\n",
      "\n",
      "Current value of n: 5\n",
      "Current value of n: 4\n",
      "Current value of n: 3\n",
      "Current value of n: 2\n",
      "\n",
      "Ending condition met\n",
      "\n",
      "120\n"
     ]
    }
   ],
   "source": [
    "def iterativeFactorial(n):\n",
    "    print(\"Calculating iterativeFactorial({})\\n\".format(n))\n",
    "    result = 1\n",
    "    while n > 1:\n",
    "        print(\"Current value of n: {}\".format(str(n)))\n",
    "        result = result * n\n",
    "        n = n - 1\n",
    "    print(\"\\nEnding condition met\\n\")\n",
    "    return result\n",
    "    \n",
    "print(iterativeFactorial(5))"
   ]
  },
  {
   "cell_type": "markdown",
   "metadata": {},
   "source": [
    "## Performing Tasks More Quickly\n",
    "### Consider Divide and Conquer\n",
    "Divide and Conquer works by breaking down a problem into smaller problems until you find a problem that you can solve without too much trouble.\n",
    "\n",
    "One example of applying this approach is the *binary search* algorithm, which finds the position of a target value in a sorted array. It does this by continously splitting the array in half and evaluating the midpoint split against the target value, and refining its search to the half which contains the target value."
   ]
  },
  {
   "cell_type": "code",
   "execution_count": 93,
   "metadata": {},
   "outputs": [
    {
     "name": "stdout",
     "output_type": "stream",
     "text": [
      "\n",
      "Midpoint Index: 10\tMidpoint Value: 11\n",
      "Key (5) is less than midpoint (11)\n",
      "searchList now contains  [1, 2, 3, 4, 5, 6, 7, 8, 9, 10]\n",
      "\n",
      "Midpoint Index: 5\tMidpoint Value: 6\n",
      "Key (5) is less than midpoint (6)\n",
      "searchList now contains  [1, 2, 3, 4, 5]\n",
      "\n",
      "Midpoint Index: 2\tMidpoint Value: 3\n",
      "Key (5) is greater than midpoint (3)\n",
      "searchList now contains  [3, 4, 5]\n",
      "\n",
      "Midpoint Index: 1\tMidpoint Value: 4\n",
      "Key (5) is greater than midpoint (4)\n",
      "searchList now contains  [4, 5]\n",
      "\n",
      "Midpoint Index: 1\tMidpoint Value: 5\n",
      "Key Found!\n"
     ]
    }
   ],
   "source": [
    "def binarySearch(searchList, key):\n",
    "    mid = int(len(searchList) / 2)\n",
    "    print(\"\\nMidpoint Index: {0}\\tMidpoint Value: {1}\".format(str(mid), str(searchList[mid])))\n",
    "    \n",
    "    if mid == 0:\n",
    "        print(\"Key not Found!\")\n",
    "        return None\n",
    "    elif key == searchList[mid]:\n",
    "        print(\"Key Found!\")\n",
    "        return searchList[mid]\n",
    "    elif key > searchList[mid]:\n",
    "        newSearch = searchList[mid:len(searchList)]\n",
    "        print(\"Key ({0}) is greater than midpoint ({1})\".format(str(key), str(searchList[mid])))\n",
    "        print(\"searchList now contains \", newSearch)\n",
    "        binarySearch(newSearch, key)\n",
    "    else:\n",
    "        newSearch = searchList[0:mid]\n",
    "        print(\"Key ({0}) is less than midpoint ({1})\".format(str(key), str(searchList[mid])))\n",
    "        print(\"searchList now contains \", newSearch)\n",
    "        binarySearch(newSearch, key)\n",
    "\n",
    "aList = list(range(1, 21))\n",
    "binarySearch(aList, 5)"
   ]
  }
 ],
 "metadata": {
  "kernelspec": {
   "display_name": "Python 3",
   "language": "python",
   "name": "python3"
  },
  "language_info": {
   "codemirror_mode": {
    "name": "ipython",
    "version": 3
   },
   "file_extension": ".py",
   "mimetype": "text/x-python",
   "name": "python",
   "nbconvert_exporter": "python",
   "pygments_lexer": "ipython3",
   "version": "3.6.7"
  }
 },
 "nbformat": 4,
 "nbformat_minor": 2
}
