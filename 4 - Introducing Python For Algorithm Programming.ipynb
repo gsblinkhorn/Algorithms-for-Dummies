{
 "cells": [
  {
   "cell_type": "markdown",
   "metadata": {},
   "source": [
    "# Storing Data Using Sets, Lists & Tuples\n",
    "## Sets\n",
    "Sets are the best option to choose when you need to perform membership testing and remove duplicates from a list. You can't perform sequence-related tasks using sets, such as indexing or slicing."
   ]
  },
  {
   "cell_type": "code",
   "execution_count": 10,
   "metadata": {},
   "outputs": [
    {
     "name": "stdout",
     "output_type": "stream",
     "text": [
      "SetX: {'Blue', 'Yellow', 'Green', 'Black', 'Orange', 'Red'}\n",
      "SetY: {'Green', 'Black'}\n",
      "SetZ: {'Red', 'Blue'}\n",
      "\n",
      "SetA.issuperset(SetY): True\n",
      "SetA.issubset(SetX): True\n",
      "\n",
      "Adding 'Purple' to SetA\n",
      "SetA.issubset(SetX): False\n"
     ]
    }
   ],
   "source": [
    "SetA = set(['Red', 'Blue', 'Green', 'Black'])\n",
    "SetB = set(['Black', 'Green', 'Yellow', 'Orange'])\n",
    "\n",
    "SetX = SetA.union(SetB)\n",
    "SetY = SetA.intersection(SetB)\n",
    "SetZ = SetA.difference(SetB)\n",
    "\n",
    "print('SetX: {0}\\nSetY: {1}\\nSetZ: {2}\\n'.format(SetX, SetY, SetZ))\n",
    "print('SetA.issuperset(SetY): {0}\\nSetA.issubset(SetX): {1}'.format(SetA.issuperset(SetY), SetA.issubset(SetX)))\n",
    "\n",
    "print('\\nAdding \\'Purple\\' to SetA')\n",
    "SetA.add('Purple')\n",
    "print('SetA.issubset(SetX): {0}'.format(SetA.issubset(SetX)))"
   ]
  },
  {
   "cell_type": "markdown",
   "metadata": {},
   "source": [
    "## Lists\n",
    "A list is a kind of sequence; of those implemented in Python, lists are the easiest to understand and are the most directly related to a real-world object. Lists are also *mutable*, meaning their contents can be changed as demonstrated below."
   ]
  },
  {
   "cell_type": "code",
   "execution_count": 20,
   "metadata": {},
   "outputs": [
    {
     "name": "stdout",
     "output_type": "stream",
     "text": [
      "List Concatenation: [0, 1, 2, 3, 4, 5, 6, 7]\n",
      "\n",
      "List Extension: [0, 1, 2, 3, 4, 5, 6, 7]\n",
      "\n",
      "Adding -5 to the List: [0, 1, 2, 3, 4, 5, 6, 7, -5]\n",
      "\n",
      "Removing 2 from the List: [0, 1, 3, 4, 5, 6, 7, -5]\n"
     ]
    }
   ],
   "source": [
    "ListA = [0, 1, 2, 3]\n",
    "ListB = [4, 5, 6, 7]\n",
    "\n",
    "print('List Concatenation: {}'.format(ListA + ListB))\n",
    "\n",
    "ListA.extend(ListB)\n",
    "print('\\nList Extension: {}'.format(ListA))\n",
    "\n",
    "ListA.append(-5)\n",
    "print('\\nAdding -5 to the List: {}'.format(ListA))\n",
    "\n",
    "ListA.remove(2)\n",
    "print('\\nRemoving 2 from the List: {}'.format(ListA))"
   ]
  },
  {
   "cell_type": "markdown",
   "metadata": {},
   "source": [
    "## Tuples\n",
    "A tuple is a collection used to create complex lists, in which you can embed one tuple within another. This embedding lets you create hierarchies with tuples. \n",
    "\n",
    "Tuples are *immutable*, meaning they can't be changed. Immutability has all sorts of advantages, such as being more secure and faster; immutable objects are also easier to use with multiple processors.\n",
    "\n",
    "The below code demonstrates tuples nested within tuples, with each indentation level representing a new nested tuple."
   ]
  },
  {
   "cell_type": "code",
   "execution_count": 1,
   "metadata": {},
   "outputs": [
    {
     "name": "stdout",
     "output_type": "stream",
     "text": [
      "myTuple:\n",
      " 1\n",
      " 2\n",
      " 3\n",
      "\t 4\n",
      "\t 5\n",
      "\t 6\n",
      "\t\t 7\n",
      "\t\t 8\n",
      "\t\t 9\n",
      "\t 5\n",
      "\t\t 5\n",
      "\t\t 6\n",
      "\t\t 7\n",
      "\n",
      "Tuples can be added together: myNewTuple = myTuple.__add__((10, 11, 12, (13, 14, 15)))\n",
      "myNewTuple: (1, 2, 3, (4, 5, 6, (7, 8, 9), 5, (5, 6, 7)), 10, 11, 12, (13, 14, 15))\n",
      "\n",
      "myNewTuple\n",
      " 1\n",
      " 2\n",
      " 3\n",
      "\t 4\n",
      "\t 5\n",
      "\t 6\n",
      "\t\t 7\n",
      "\t\t 8\n",
      "\t\t 9\n",
      "\t 5\n",
      "\t\t 5\n",
      "\t\t 6\n",
      "\t\t 7\n",
      " 10\n",
      " 11\n",
      " 12\n",
      "\t 13\n",
      "\t 14\n",
      "\t 15\n"
     ]
    }
   ],
   "source": [
    "myTuple = (1, 2, 3, (4, 5, 6, (7, 8, 9), 5, (5,6,7)))\n",
    "\n",
    "# Solution for recursively printing out values in a given nested tuple using indentation to denote nesting\n",
    "def printNestedTuples(nestedTuple, indentLevel = 0):\n",
    "    indent = indentLevel * \"\\t\"\n",
    "    \n",
    "    for value in nestedTuple:\n",
    "        if type(value) == tuple:\n",
    "            printNestedTuples(value, indentLevel + 1)\n",
    "        else:\n",
    "            print(indent, value)\n",
    "\n",
    "print(\"myTuple:\")\n",
    "printNestedTuples(myTuple)\n",
    "\n",
    "print(\"\\nTuples can be added together: myNewTuple = myTuple.__add__((10, 11, 12, (13, 14, 15)))\")\n",
    "myNewTuple = myTuple.__add__((10, 11, 12, (13, 14, 15)))\n",
    "\n",
    "print(\"myNewTuple: {}\".format(myNewTuple))\n",
    "print(\"\\nmyNewTuple\")\n",
    "printNestedTuples(myNewTuple)"
   ]
  }
 ],
 "metadata": {
  "kernelspec": {
   "display_name": "Python 3",
   "language": "python",
   "name": "python3"
  },
  "language_info": {
   "codemirror_mode": {
    "name": "ipython",
    "version": 3
   },
   "file_extension": ".py",
   "mimetype": "text/x-python",
   "name": "python",
   "nbconvert_exporter": "python",
   "pygments_lexer": "ipython3",
   "version": "3.6.7"
  }
 },
 "nbformat": 4,
 "nbformat_minor": 2
}
